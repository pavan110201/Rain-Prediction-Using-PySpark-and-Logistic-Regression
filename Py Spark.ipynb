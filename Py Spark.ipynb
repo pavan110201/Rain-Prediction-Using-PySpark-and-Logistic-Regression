{
  "nbformat": 4,
  "nbformat_minor": 0,
  "metadata": {
    "colab": {
      "provenance": []
    },
    "kernelspec": {
      "name": "python3",
      "display_name": "Python 3"
    },
    "language_info": {
      "name": "python"
    }
  },
  "cells": [
    {
      "cell_type": "code",
      "execution_count": 2,
      "metadata": {
        "id": "f9xTssf1NGi2"
      },
      "outputs": [],
      "source": [
        "# Downloading and extracting Spark 3.5.1\n",
        "\n",
        "!apt-get install openjdk-11-jdk-headless -qq > /dev/null\n",
        "!wget -q https://dlcdn.apache.org/spark/spark-3.5.1/spark-3.5.1-bin-hadoop3.tgz\n",
        "!tar xf spark-3.5.1-bin-hadoop3.tgz\n",
        "!pip install -q findspark"
      ]
    },
    {
      "cell_type": "code",
      "source": [
        "# Setting up Spark environment variables\n",
        "import os\n",
        "os.environ[\"JAVA_HOME\"] = \"/usr/lib/jvm/java-11-openjdk-amd64\"\n",
        "os.environ[\"SPARK_HOME\"] = \"/content/spark-3.5.1-bin-hadoop3\"\n"
      ],
      "metadata": {
        "id": "nGdolyM-NVpv"
      },
      "execution_count": 3,
      "outputs": []
    },
    {
      "cell_type": "code",
      "source": [
        "# Mounting to Google Drive\n",
        "from google.colab import drive\n",
        "drive.mount('/content/drive')"
      ],
      "metadata": {
        "colab": {
          "base_uri": "https://localhost:8080/"
        },
        "id": "8BKD0xAaNZhy",
        "outputId": "e2ea6df0-8e57-43d4-a315-0640c4bc9c9a"
      },
      "execution_count": 4,
      "outputs": [
        {
          "output_type": "stream",
          "name": "stdout",
          "text": [
            "Mounted at /content/drive\n"
          ]
        }
      ]
    },
    {
      "cell_type": "code",
      "source": [
        "import os\n",
        "import pandas as pd\n",
        "import findspark\n",
        "findspark.init()\n",
        "\n",
        "from pyspark.sql import SparkSession\n",
        "from pyspark.sql.types import *\n",
        "\n",
        "# creating a spark session\n",
        "spark = SparkSession.builder.appName(\"weatherAUS\").getOrCreate()\n",
        "\n"
      ],
      "metadata": {
        "id": "Z7PnOfmhNhjk"
      },
      "execution_count": 5,
      "outputs": []
    },
    {
      "cell_type": "code",
      "source": [
        "#Libraries\n",
        "\n",
        "import os\n",
        "import sys\n",
        "import tempfile\n",
        "import shutil\n",
        "import pyspark.sql.functions as F\n",
        "from pyspark.sql import SparkSession\n",
        "from pyspark.mllib.stat import Statistics\n",
        "from pyspark.mllib.util import MLUtils\n",
        "from pyspark.sql.types import *\n",
        "from pyspark.sql.functions import col, expr,isnan,when,count,year, month, dayofmonth\n",
        "from pyspark.sql.types import StringType, FloatType, IntegerType, DoubleType\n",
        "from pyspark.ml.feature import OneHotEncoder, StringIndexer, VectorAssembler,Imputer, StandardScaler, StringIndexer\n",
        "from pyspark.ml import Pipeline\n",
        "from pyspark.ml.classification import LogisticRegression\n",
        "from pyspark.ml.evaluation import BinaryClassificationEvaluator\n",
        "from pyspark.ml.tuning import ParamGridBuilder, CrossValidator\n",
        "from pyspark.sql.functions import lit"
      ],
      "metadata": {
        "id": "Smianhe3N85H"
      },
      "execution_count": 6,
      "outputs": []
    },
    {
      "cell_type": "code",
      "source": [
        "#Reading the dataset\n",
        "data = spark.read.csv('/content/drive/MyDrive/weatherAUS.csv',inferSchema=True,header=True)\n",
        "data.show(5)\n"
      ],
      "metadata": {
        "colab": {
          "base_uri": "https://localhost:8080/"
        },
        "id": "-gqM3Yi9OPB0",
        "outputId": "be3e1448-d6fc-41af-9c15-32fd9c2078e9"
      },
      "execution_count": 7,
      "outputs": [
        {
          "output_type": "stream",
          "name": "stdout",
          "text": [
            "+----------+--------+-------+-------+--------+-----------+--------+-----------+-------------+----------+----------+------------+------------+-----------+-----------+-----------+-----------+--------+--------+-------+-------+---------+-------+------------+\n",
            "|      Date|Location|MinTemp|MaxTemp|Rainfall|Evaporation|Sunshine|WindGustDir|WindGustSpeed|WindDir9am|WindDir3pm|WindSpeed9am|WindSpeed3pm|Humidity9am|Humidity3pm|Pressure9am|Pressure3pm|Cloud9am|Cloud3pm|Temp9am|Temp3pm|RainToday|RISK_MM|RainTomorrow|\n",
            "+----------+--------+-------+-------+--------+-----------+--------+-----------+-------------+----------+----------+------------+------------+-----------+-----------+-----------+-----------+--------+--------+-------+-------+---------+-------+------------+\n",
            "|2008-12-01|  Albury|   13.4|   22.9|     0.6|         NA|      NA|          W|           44|         W|       WNW|          20|          24|         71|         22|     1007.7|     1007.1|       8|      NA|   16.9|   21.8|       No|    0.0|          No|\n",
            "|2008-12-02|  Albury|    7.4|   25.1|       0|         NA|      NA|        WNW|           44|       NNW|       WSW|           4|          22|         44|         25|     1010.6|     1007.8|      NA|      NA|   17.2|   24.3|       No|    0.0|          No|\n",
            "|2008-12-03|  Albury|   12.9|   25.7|       0|         NA|      NA|        WSW|           46|         W|       WSW|          19|          26|         38|         30|     1007.6|     1008.7|      NA|       2|     21|   23.2|       No|    0.0|          No|\n",
            "|2008-12-04|  Albury|    9.2|     28|       0|         NA|      NA|         NE|           24|        SE|         E|          11|           9|         45|         16|     1017.6|     1012.8|      NA|      NA|   18.1|   26.5|       No|    1.0|          No|\n",
            "|2008-12-05|  Albury|   17.5|   32.3|       1|         NA|      NA|          W|           41|       ENE|        NW|           7|          20|         82|         33|     1010.8|       1006|       7|       8|   17.8|   29.7|       No|    0.2|          No|\n",
            "+----------+--------+-------+-------+--------+-----------+--------+-----------+-------------+----------+----------+------------+------------+-----------+-----------+-----------+-----------+--------+--------+-------+-------+---------+-------+------------+\n",
            "only showing top 5 rows\n",
            "\n"
          ]
        }
      ]
    },
    {
      "cell_type": "code",
      "source": [
        "#Printing the data schema\n",
        "data.printSchema()"
      ],
      "metadata": {
        "colab": {
          "base_uri": "https://localhost:8080/"
        },
        "id": "L-XwtzSKOeVG",
        "outputId": "9c746cc8-c12d-40b5-845a-76cc678eb88a"
      },
      "execution_count": 8,
      "outputs": [
        {
          "output_type": "stream",
          "name": "stdout",
          "text": [
            "root\n",
            " |-- Date: date (nullable = true)\n",
            " |-- Location: string (nullable = true)\n",
            " |-- MinTemp: string (nullable = true)\n",
            " |-- MaxTemp: string (nullable = true)\n",
            " |-- Rainfall: string (nullable = true)\n",
            " |-- Evaporation: string (nullable = true)\n",
            " |-- Sunshine: string (nullable = true)\n",
            " |-- WindGustDir: string (nullable = true)\n",
            " |-- WindGustSpeed: string (nullable = true)\n",
            " |-- WindDir9am: string (nullable = true)\n",
            " |-- WindDir3pm: string (nullable = true)\n",
            " |-- WindSpeed9am: string (nullable = true)\n",
            " |-- WindSpeed3pm: string (nullable = true)\n",
            " |-- Humidity9am: string (nullable = true)\n",
            " |-- Humidity3pm: string (nullable = true)\n",
            " |-- Pressure9am: string (nullable = true)\n",
            " |-- Pressure3pm: string (nullable = true)\n",
            " |-- Cloud9am: string (nullable = true)\n",
            " |-- Cloud3pm: string (nullable = true)\n",
            " |-- Temp9am: string (nullable = true)\n",
            " |-- Temp3pm: string (nullable = true)\n",
            " |-- RainToday: string (nullable = true)\n",
            " |-- RISK_MM: double (nullable = true)\n",
            " |-- RainTomorrow: string (nullable = true)\n",
            "\n"
          ]
        }
      ]
    },
    {
      "cell_type": "markdown",
      "source": [
        "1) Exploring categorical variable names"
      ],
      "metadata": {
        "id": "AGJLM2TqPBWv"
      }
    },
    {
      "cell_type": "code",
      "source": [
        "#converting sttrings to float\n",
        "df_stf = data.select(*(col(c).cast(FloatType()) if c in [\"MinTemp\",\"MaxTemp\",\"Rainfall\",\"Evaporation\",\"WindGustSpeed\",\"WindSpeed9am\",\"Sunshine\",\"WindSpeed3pm\", \"Humidity9am\", \"Humidity3pm\", \"Pressure9am\", \"Pressure3pm\", \"Cloud9am\", \"Cloud3pm\", \"Temp9am\", \"Temp3pm\", \"RISK_MM\"\n",
        "] else col(c) for c in data.columns))\n",
        "df_stf.printSchema()"
      ],
      "metadata": {
        "colab": {
          "base_uri": "https://localhost:8080/"
        },
        "id": "zuOBYDv0OnbP",
        "outputId": "842adafc-28b7-4609-e2ef-d515e77bd4a7"
      },
      "execution_count": 9,
      "outputs": [
        {
          "output_type": "stream",
          "name": "stdout",
          "text": [
            "root\n",
            " |-- Date: date (nullable = true)\n",
            " |-- Location: string (nullable = true)\n",
            " |-- MinTemp: float (nullable = true)\n",
            " |-- MaxTemp: float (nullable = true)\n",
            " |-- Rainfall: float (nullable = true)\n",
            " |-- Evaporation: float (nullable = true)\n",
            " |-- Sunshine: float (nullable = true)\n",
            " |-- WindGustDir: string (nullable = true)\n",
            " |-- WindGustSpeed: float (nullable = true)\n",
            " |-- WindDir9am: string (nullable = true)\n",
            " |-- WindDir3pm: string (nullable = true)\n",
            " |-- WindSpeed9am: float (nullable = true)\n",
            " |-- WindSpeed3pm: float (nullable = true)\n",
            " |-- Humidity9am: float (nullable = true)\n",
            " |-- Humidity3pm: float (nullable = true)\n",
            " |-- Pressure9am: float (nullable = true)\n",
            " |-- Pressure3pm: float (nullable = true)\n",
            " |-- Cloud9am: float (nullable = true)\n",
            " |-- Cloud3pm: float (nullable = true)\n",
            " |-- Temp9am: float (nullable = true)\n",
            " |-- Temp3pm: float (nullable = true)\n",
            " |-- RainToday: string (nullable = true)\n",
            " |-- RISK_MM: float (nullable = true)\n",
            " |-- RainTomorrow: string (nullable = true)\n",
            "\n"
          ]
        }
      ]
    },
    {
      "cell_type": "code",
      "source": [
        "#printing categorical variables in the dataset\n",
        "schema = df_stf.schema\n",
        "string_columns = [field.name for field in schema if isinstance(field.dataType, StringType)]\n",
        "print(\"Columns containing string values:\", string_columns)\n"
      ],
      "metadata": {
        "colab": {
          "base_uri": "https://localhost:8080/"
        },
        "id": "nJk8wGAWPOah",
        "outputId": "f56544f7-faec-4217-c602-17f7358a6a3c"
      },
      "execution_count": 10,
      "outputs": [
        {
          "output_type": "stream",
          "name": "stdout",
          "text": [
            "Columns containing string values: ['Location', 'WindGustDir', 'WindDir9am', 'WindDir3pm', 'RainToday', 'RainTomorrow']\n"
          ]
        }
      ]
    },
    {
      "cell_type": "markdown",
      "source": [
        "2) categorical variables having null values"
      ],
      "metadata": {
        "id": "NVAQXlymPYGV"
      }
    },
    {
      "cell_type": "code",
      "source": [
        "# Identifying categorical variables with null values\n",
        "df_cv = df_stf.select([count(when(col(c).contains('None') | \\\n",
        "                            col(c).contains('NULL') | \\\n",
        "                            col(c).contains('NA') | \\\n",
        "                            (col(c) == '' ) | \\\n",
        "                            col(c).isNull() | \\\n",
        "                            isnan(c), c\n",
        "                           )).alias(c)\n",
        "                    for c in string_columns])\n",
        "print('Displaying categorical variables with null value counts')\n",
        "df_cv.show()\n"
      ],
      "metadata": {
        "colab": {
          "base_uri": "https://localhost:8080/"
        },
        "id": "O_1HeuL0PVbX",
        "outputId": "3f21a3c5-f36a-4fd8-bea6-b31458ada224"
      },
      "execution_count": 11,
      "outputs": [
        {
          "output_type": "stream",
          "name": "stdout",
          "text": [
            "Displaying categorical variables with null value counts\n",
            "+--------+-----------+----------+----------+---------+------------+\n",
            "|Location|WindGustDir|WindDir9am|WindDir3pm|RainToday|RainTomorrow|\n",
            "+--------+-----------+----------+----------+---------+------------+\n",
            "|       0|       9330|     10013|      3778|     1406|           0|\n",
            "+--------+-----------+----------+----------+---------+------------+\n",
            "\n"
          ]
        }
      ]
    },
    {
      "cell_type": "code",
      "source": [
        "categorical_columns_with_null = [c for c in string_columns if df_cv.select(c).first()[c] > 0]\n",
        "print(f'Number of categorical columns with null values are: {categorical_columns_with_null},count: {len(categorical_columns_with_null)}')\n"
      ],
      "metadata": {
        "colab": {
          "base_uri": "https://localhost:8080/"
        },
        "id": "SDHc4vUJP4G5",
        "outputId": "4d8351e7-bdf2-449a-bcb7-aa41557ecaa5"
      },
      "execution_count": 12,
      "outputs": [
        {
          "output_type": "stream",
          "name": "stdout",
          "text": [
            "Number of categorical columns with null values are: ['WindGustDir', 'WindDir9am', 'WindDir3pm', 'RainToday'],count: 4\n"
          ]
        }
      ]
    },
    {
      "cell_type": "markdown",
      "source": [
        "3) Frequency count of each categorical variable"
      ],
      "metadata": {
        "id": "YOENKdixQQBB"
      }
    },
    {
      "cell_type": "code",
      "source": [
        "#Printing Frequency count of categorical variables\n",
        "for column in string_columns:\n",
        "    frequency_count = df_cv.groupBy(column).count()\n",
        "    print(f\"\\nFrequency count for '{column}':\")\n",
        "    frequency_count.show(100,truncate=False)\n",
        "    distinct_values_count = df_cv.select(column).distinct().count()\n",
        "    print(f\"Number of datapoints in each distinct value for {column}: {distinct_values_count}\")\n",
        "    print()"
      ],
      "metadata": {
        "colab": {
          "base_uri": "https://localhost:8080/"
        },
        "outputId": "99617a6b-bacd-4aa3-c2d2-9361267fad56",
        "id": "BiKlUMdwgTjY"
      },
      "execution_count": null,
      "outputs": [
        {
          "output_type": "stream",
          "name": "stdout",
          "text": [
            "\n",
            "Frequency count for 'Location':\n",
            "+----------------+-----+\n",
            "|Location        |count|\n",
            "+----------------+-----+\n",
            "|Cairns          |2988 |\n",
            "|NorfolkIsland   |2964 |\n",
            "|Bendigo         |3034 |\n",
            "|Canberra        |3418 |\n",
            "|Cobar           |2988 |\n",
            "|SydneyAirport   |3005 |\n",
            "|Wollongong      |2983 |\n",
            "|Williamtown     |2553 |\n",
            "|Moree           |2854 |\n",
            "|Mildura         |3007 |\n",
            "|Portland        |2996 |\n",
            "|Brisbane        |3161 |\n",
            "|Sydney          |3337 |\n",
            "|Sale            |3000 |\n",
            "|BadgerysCreek   |2928 |\n",
            "|Tuggeranong     |2998 |\n",
            "|Ballarat        |3028 |\n",
            "|GoldCoast       |2980 |\n",
            "|MelbourneAirport|3009 |\n",
            "|Dartmoor        |2943 |\n",
            "|Nhil            |1569 |\n",
            "|Albury          |3011 |\n",
            "|WaggaWagga      |2976 |\n",
            "|CoffsHarbour    |2953 |\n",
            "|Melbourne       |2435 |\n",
            "|Penrith         |2964 |\n",
            "|NorahHead       |2929 |\n",
            "|MountGinini     |2907 |\n",
            "|Townsville      |3033 |\n",
            "|Newcastle       |2955 |\n",
            "|Watsonia        |2999 |\n",
            "|Richmond        |2951 |\n",
            "|Walpole         |2819 |\n",
            "|Woomera         |2990 |\n",
            "|Adelaide        |3090 |\n",
            "|PerthAirport    |3009 |\n",
            "|Albany          |3016 |\n",
            "|SalmonGums      |2955 |\n",
            "|Perth           |3193 |\n",
            "|Hobart          |3188 |\n",
            "|PearceRAAF      |2762 |\n",
            "|Witchcliffe     |2952 |\n",
            "|Darwin          |3192 |\n",
            "|Uluru           |1521 |\n",
            "|Nuriootpa       |3002 |\n",
            "|MountGambier    |3030 |\n",
            "|Katherine       |1559 |\n",
            "|AliceSprings    |3031 |\n",
            "|Launceston      |3028 |\n",
            "+----------------+-----+\n",
            "\n",
            "Number of datapoints in each distinct value for Location: 49\n",
            "\n",
            "\n",
            "Frequency count for 'WindGustDir':\n",
            "+-----------+-----+\n",
            "|WindGustDir|count|\n",
            "+-----------+-----+\n",
            "|SSE        |8993 |\n",
            "|SW         |8797 |\n",
            "|NW         |8003 |\n",
            "|NA         |9330 |\n",
            "|E          |9071 |\n",
            "|WSW        |8901 |\n",
            "|ENE        |7992 |\n",
            "|NE         |7060 |\n",
            "|NNW        |6561 |\n",
            "|N          |9033 |\n",
            "|SSW        |8610 |\n",
            "|W          |9780 |\n",
            "|S          |8949 |\n",
            "|SE         |9309 |\n",
            "|WNW        |8066 |\n",
            "|NNE        |6433 |\n",
            "|ESE        |7305 |\n",
            "+-----------+-----+\n",
            "\n",
            "Number of datapoints in each distinct value for WindGustDir: 17\n",
            "\n",
            "\n",
            "Frequency count for 'WindDir9am':\n",
            "+----------+-----+\n",
            "|WindDir9am|count|\n",
            "+----------+-----+\n",
            "|SSE       |8966 |\n",
            "|SW        |8237 |\n",
            "|NW        |8552 |\n",
            "|NA        |10013|\n",
            "|E         |9024 |\n",
            "|WSW       |6843 |\n",
            "|ENE       |7735 |\n",
            "|NE        |7527 |\n",
            "|NNW       |7840 |\n",
            "|N         |11393|\n",
            "|SSW       |7448 |\n",
            "|W         |8260 |\n",
            "|S         |8493 |\n",
            "|SE        |9162 |\n",
            "|WNW       |7194 |\n",
            "|NNE       |7948 |\n",
            "|ESE       |7558 |\n",
            "+----------+-----+\n",
            "\n",
            "Number of datapoints in each distinct value for WindDir9am: 17\n",
            "\n",
            "\n",
            "Frequency count for 'WindDir3pm':\n",
            "+----------+-----+\n",
            "|WindDir3pm|count|\n",
            "+----------+-----+\n",
            "|SSE       |9142 |\n",
            "|NW        |8468 |\n",
            "|SW        |9182 |\n",
            "|NA        |3778 |\n",
            "|E         |8342 |\n",
            "|WSW       |9329 |\n",
            "|ENE       |7724 |\n",
            "|NE        |8164 |\n",
            "|NNW       |7733 |\n",
            "|N         |8667 |\n",
            "|SSW       |8010 |\n",
            "|W         |9911 |\n",
            "|S         |9598 |\n",
            "|SE        |10663|\n",
            "|WNW       |8656 |\n",
            "|NNE       |6444 |\n",
            "|ESE       |8382 |\n",
            "+----------+-----+\n",
            "\n",
            "Number of datapoints in each distinct value for WindDir3pm: 17\n",
            "\n",
            "\n",
            "Frequency count for 'RainToday':\n",
            "+---------+------+\n",
            "|RainToday|count |\n",
            "+---------+------+\n",
            "|NA       |1406  |\n",
            "|No       |109332|\n",
            "|Yes      |31455 |\n",
            "+---------+------+\n",
            "\n",
            "Number of datapoints in each distinct value for RainToday: 3\n",
            "\n",
            "\n",
            "Frequency count for 'RainTomorrow':\n",
            "+------------+------+\n",
            "|RainTomorrow|count |\n",
            "+------------+------+\n",
            "|No          |110316|\n",
            "|Yes         |31877 |\n",
            "+------------+------+\n",
            "\n",
            "Number of datapoints in each distinct value for RainTomorrow: 2\n",
            "\n"
          ]
        }
      ]
    },
    {
      "cell_type": "markdown",
      "source": [
        "4) First five rows of the dataset"
      ],
      "metadata": {
        "id": "82tGslL-RPTh"
      }
    },
    {
      "cell_type": "code",
      "source": [
        "#printing first five rows of the data\n",
        "df_stf.show(5)\n",
        "\n"
      ],
      "metadata": {
        "colab": {
          "base_uri": "https://localhost:8080/"
        },
        "id": "cuZ5-mzaQd3_",
        "outputId": "2d9c37db-1b5d-4859-86f0-192d63db105d"
      },
      "execution_count": 15,
      "outputs": [
        {
          "output_type": "stream",
          "name": "stdout",
          "text": [
            "+----------+--------+-------+-------+--------+-----------+--------+-----------+-------------+----------+----------+------------+------------+-----------+-----------+-----------+-----------+--------+--------+-------+-------+---------+-------+------------+\n",
            "|      Date|Location|MinTemp|MaxTemp|Rainfall|Evaporation|Sunshine|WindGustDir|WindGustSpeed|WindDir9am|WindDir3pm|WindSpeed9am|WindSpeed3pm|Humidity9am|Humidity3pm|Pressure9am|Pressure3pm|Cloud9am|Cloud3pm|Temp9am|Temp3pm|RainToday|RISK_MM|RainTomorrow|\n",
            "+----------+--------+-------+-------+--------+-----------+--------+-----------+-------------+----------+----------+------------+------------+-----------+-----------+-----------+-----------+--------+--------+-------+-------+---------+-------+------------+\n",
            "|2008-12-01|  Albury|   13.4|   22.9|     0.6|       NULL|    NULL|          W|         44.0|         W|       WNW|        20.0|        24.0|       71.0|       22.0|     1007.7|     1007.1|     8.0|    NULL|   16.9|   21.8|       No|    0.0|          No|\n",
            "|2008-12-02|  Albury|    7.4|   25.1|     0.0|       NULL|    NULL|        WNW|         44.0|       NNW|       WSW|         4.0|        22.0|       44.0|       25.0|     1010.6|     1007.8|    NULL|    NULL|   17.2|   24.3|       No|    0.0|          No|\n",
            "|2008-12-03|  Albury|   12.9|   25.7|     0.0|       NULL|    NULL|        WSW|         46.0|         W|       WSW|        19.0|        26.0|       38.0|       30.0|     1007.6|     1008.7|    NULL|     2.0|   21.0|   23.2|       No|    0.0|          No|\n",
            "|2008-12-04|  Albury|    9.2|   28.0|     0.0|       NULL|    NULL|         NE|         24.0|        SE|         E|        11.0|         9.0|       45.0|       16.0|     1017.6|     1012.8|    NULL|    NULL|   18.1|   26.5|       No|    1.0|          No|\n",
            "|2008-12-05|  Albury|   17.5|   32.3|     1.0|       NULL|    NULL|          W|         41.0|       ENE|        NW|         7.0|        20.0|       82.0|       33.0|     1010.8|     1006.0|     7.0|     8.0|   17.8|   29.7|       No|    0.2|          No|\n",
            "+----------+--------+-------+-------+--------+-----------+--------+-----------+-------------+----------+----------+------------+------------+-----------+-----------+-----------+-----------+--------+--------+-------+-------+---------+-------+------------+\n",
            "only showing top 5 rows\n",
            "\n"
          ]
        }
      ]
    },
    {
      "cell_type": "markdown",
      "source": [
        "5) Avilable columns of the dataset"
      ],
      "metadata": {
        "id": "vU5fm56uRZyy"
      }
    },
    {
      "cell_type": "code",
      "source": [
        "#printing avilable columns in the dataset\n",
        "df_stf.columns"
      ],
      "metadata": {
        "colab": {
          "base_uri": "https://localhost:8080/"
        },
        "id": "6m4TABLPRV1k",
        "outputId": "e770d8fb-c854-42d2-c088-7bef76a4b0e5"
      },
      "execution_count": 16,
      "outputs": [
        {
          "output_type": "execute_result",
          "data": {
            "text/plain": [
              "['Date',\n",
              " 'Location',\n",
              " 'MinTemp',\n",
              " 'MaxTemp',\n",
              " 'Rainfall',\n",
              " 'Evaporation',\n",
              " 'Sunshine',\n",
              " 'WindGustDir',\n",
              " 'WindGustSpeed',\n",
              " 'WindDir9am',\n",
              " 'WindDir3pm',\n",
              " 'WindSpeed9am',\n",
              " 'WindSpeed3pm',\n",
              " 'Humidity9am',\n",
              " 'Humidity3pm',\n",
              " 'Pressure9am',\n",
              " 'Pressure3pm',\n",
              " 'Cloud9am',\n",
              " 'Cloud3pm',\n",
              " 'Temp9am',\n",
              " 'Temp3pm',\n",
              " 'RainToday',\n",
              " 'RISK_MM',\n",
              " 'RainTomorrow']"
            ]
          },
          "metadata": {},
          "execution_count": 16
        }
      ]
    },
    {
      "cell_type": "markdown",
      "source": [
        "6) Droping Risk_MM column"
      ],
      "metadata": {
        "id": "AKYPUU3rRmQb"
      }
    },
    {
      "cell_type": "code",
      "source": [
        "#Dropping risk column\n",
        "df_dr = df_stf.drop(\"RISK_MM\")\n"
      ],
      "metadata": {
        "id": "lsGAKVxeRh0V"
      },
      "execution_count": 17,
      "outputs": []
    },
    {
      "cell_type": "markdown",
      "source": [
        "7) Summary of the dataset"
      ],
      "metadata": {
        "id": "SDtLfo2XR1Ts"
      }
    },
    {
      "cell_type": "code",
      "source": [
        "#summary of the data\n",
        "df_dr.summary().show()\n"
      ],
      "metadata": {
        "colab": {
          "base_uri": "https://localhost:8080/"
        },
        "id": "q_vx3Re1RwDv",
        "outputId": "838f4631-1986-4016-8446-f27462a713e2"
      },
      "execution_count": 18,
      "outputs": [
        {
          "output_type": "stream",
          "name": "stdout",
          "text": [
            "+-------+--------+------------------+------------------+-----------------+-----------------+------------------+-----------+------------------+----------+----------+-----------------+-----------------+------------------+------------------+------------------+------------------+------------------+-----------------+-----------------+------------------+---------+------------+\n",
            "|summary|Location|           MinTemp|           MaxTemp|         Rainfall|      Evaporation|          Sunshine|WindGustDir|     WindGustSpeed|WindDir9am|WindDir3pm|     WindSpeed9am|     WindSpeed3pm|       Humidity9am|       Humidity3pm|       Pressure9am|       Pressure3pm|          Cloud9am|         Cloud3pm|          Temp9am|           Temp3pm|RainToday|RainTomorrow|\n",
            "+-------+--------+------------------+------------------+-----------------+-----------------+------------------+-----------+------------------+----------+----------+-----------------+-----------------+------------------+------------------+------------------+------------------+------------------+-----------------+-----------------+------------------+---------+------------+\n",
            "|  count|  142193|            141556|            141871|           140787|            81350|             74377|     142193|            132923|    142193|    142193|           140845|           139563|            140419|            138583|            128179|            128212|             88536|            85099|           141289|            139467|   142193|      142193|\n",
            "|   mean|    NULL|12.186399729847201|23.226784188867104|2.349974075312399| 5.46982421533876| 7.624853114890268|       NULL| 39.98429165757619|      NULL|      NULL|  14.001988000994|18.63757586179718|  68.8438103105705|51.482606091656265|1017.6537584219649|1015.2582035026019| 4.437189391885787|4.503166899728551|16.98750858451776|21.687234972066364|     NULL|        NULL|\n",
            "| stddev|    NULL| 6.403282675161533| 7.117618136628578|8.465172922382996|4.188536512082292|3.7815249951616057|       NULL|13.588800765487786|      NULL|      NULL|8.893337098234486|8.803345036235541|19.051292535336284|20.797771843698907| 7.105475600438319| 7.036676572368914|2.8870155257336068|2.720632530403662|6.492838324282417| 6.937593865997204|     NULL|        NULL|\n",
            "|    min|Adelaide|              -8.5|              -4.8|              0.0|              0.0|               0.0|          E|               6.0|         E|         E|              0.0|              0.0|               0.0|               0.0|             980.5|             977.1|               0.0|              0.0|             -7.2|              -5.4|       NA|          No|\n",
            "|    25%|    NULL|               7.6|              17.9|              0.0|              2.6|               4.9|       NULL|              31.0|      NULL|      NULL|              7.0|             13.0|              57.0|              37.0|            1012.9|            1010.4|               1.0|              2.0|             12.3|              16.6|     NULL|        NULL|\n",
            "|    50%|    NULL|              12.0|              22.6|              0.0|              4.8|               8.5|       NULL|              39.0|      NULL|      NULL|             13.0|             19.0|              70.0|              52.0|            1017.6|            1015.2|               5.0|              5.0|             16.7|              21.1|     NULL|        NULL|\n",
            "|    75%|    NULL|              16.8|              28.2|              0.8|              7.4|              10.6|       NULL|              48.0|      NULL|      NULL|             19.0|             24.0|              83.0|              66.0|            1022.4|            1020.0|               7.0|              7.0|             21.6|              26.4|     NULL|        NULL|\n",
            "|    max| Woomera|              33.9|              48.1|            371.0|            145.0|              14.5|        WSW|             135.0|       WSW|       WSW|            130.0|             87.0|             100.0|             100.0|            1041.0|            1039.6|               9.0|              9.0|             40.2|              46.7|      Yes|         Yes|\n",
            "+-------+--------+------------------+------------------+-----------------+-----------------+------------------+-----------+------------------+----------+----------+-----------------+-----------------+------------------+------------------+------------------+------------------+------------------+-----------------+-----------------+------------------+---------+------------+\n",
            "\n"
          ]
        }
      ]
    },
    {
      "cell_type": "markdown",
      "source": [
        "8) First five rows of categrical Variables"
      ],
      "metadata": {
        "id": "ao5A-UNkSFqv"
      }
    },
    {
      "cell_type": "code",
      "source": [
        "#printing first five rows of categrical Variables\n",
        "df_dr.select(string_columns).show(5, truncate=False)"
      ],
      "metadata": {
        "colab": {
          "base_uri": "https://localhost:8080/"
        },
        "id": "pWmVhDZWR3wm",
        "outputId": "e774f5f6-0b30-4aa5-9a1f-44e8d72479f7"
      },
      "execution_count": 19,
      "outputs": [
        {
          "output_type": "stream",
          "name": "stdout",
          "text": [
            "+--------+-----------+----------+----------+---------+------------+\n",
            "|Location|WindGustDir|WindDir9am|WindDir3pm|RainToday|RainTomorrow|\n",
            "+--------+-----------+----------+----------+---------+------------+\n",
            "|Albury  |W          |W         |WNW       |No       |No          |\n",
            "|Albury  |WNW        |NNW       |WSW       |No       |No          |\n",
            "|Albury  |WSW        |W         |WSW       |No       |No          |\n",
            "|Albury  |NE         |SE        |E         |No       |No          |\n",
            "|Albury  |W          |ENE       |NW        |No       |No          |\n",
            "+--------+-----------+----------+----------+---------+------------+\n",
            "only showing top 5 rows\n",
            "\n"
          ]
        }
      ]
    },
    {
      "cell_type": "markdown",
      "source": [
        "9) Decomposing date field into year, month, and day fields\n"
      ],
      "metadata": {
        "id": "zvG9Oxq9SLQr"
      }
    },
    {
      "cell_type": "code",
      "source": [
        "#Decomposing date field\n",
        "df = df_dr.withColumn(\"Year\", year(col(\"Date\"))) \\\n",
        "         .withColumn(\"Month\", month(col(\"Date\"))) \\\n",
        "         .withColumn(\"Day\", dayofmonth(col(\"Date\")))\n",
        "df_dd = df.drop(\"Date\")\n",
        "df_dd.show(5)"
      ],
      "metadata": {
        "colab": {
          "base_uri": "https://localhost:8080/"
        },
        "id": "jw79fvHYSIvR",
        "outputId": "54bfbe5c-3146-48f7-af5b-64562d617b94"
      },
      "execution_count": 20,
      "outputs": [
        {
          "output_type": "stream",
          "name": "stdout",
          "text": [
            "+--------+-------+-------+--------+-----------+--------+-----------+-------------+----------+----------+------------+------------+-----------+-----------+-----------+-----------+--------+--------+-------+-------+---------+------------+----+-----+---+\n",
            "|Location|MinTemp|MaxTemp|Rainfall|Evaporation|Sunshine|WindGustDir|WindGustSpeed|WindDir9am|WindDir3pm|WindSpeed9am|WindSpeed3pm|Humidity9am|Humidity3pm|Pressure9am|Pressure3pm|Cloud9am|Cloud3pm|Temp9am|Temp3pm|RainToday|RainTomorrow|Year|Month|Day|\n",
            "+--------+-------+-------+--------+-----------+--------+-----------+-------------+----------+----------+------------+------------+-----------+-----------+-----------+-----------+--------+--------+-------+-------+---------+------------+----+-----+---+\n",
            "|  Albury|   13.4|   22.9|     0.6|       NULL|    NULL|          W|         44.0|         W|       WNW|        20.0|        24.0|       71.0|       22.0|     1007.7|     1007.1|     8.0|    NULL|   16.9|   21.8|       No|          No|2008|   12|  1|\n",
            "|  Albury|    7.4|   25.1|     0.0|       NULL|    NULL|        WNW|         44.0|       NNW|       WSW|         4.0|        22.0|       44.0|       25.0|     1010.6|     1007.8|    NULL|    NULL|   17.2|   24.3|       No|          No|2008|   12|  2|\n",
            "|  Albury|   12.9|   25.7|     0.0|       NULL|    NULL|        WSW|         46.0|         W|       WSW|        19.0|        26.0|       38.0|       30.0|     1007.6|     1008.7|    NULL|     2.0|   21.0|   23.2|       No|          No|2008|   12|  3|\n",
            "|  Albury|    9.2|   28.0|     0.0|       NULL|    NULL|         NE|         24.0|        SE|         E|        11.0|         9.0|       45.0|       16.0|     1017.6|     1012.8|    NULL|    NULL|   18.1|   26.5|       No|          No|2008|   12|  4|\n",
            "|  Albury|   17.5|   32.3|     1.0|       NULL|    NULL|          W|         41.0|       ENE|        NW|         7.0|        20.0|       82.0|       33.0|     1010.8|     1006.0|     7.0|     8.0|   17.8|   29.7|       No|          No|2008|   12|  5|\n",
            "+--------+-------+-------+--------+-----------+--------+-----------+-------------+----------+----------+------------+------------+-----------+-----------+-----------+-----------+--------+--------+-------+-------+---------+------------+----+-----+---+\n",
            "only showing top 5 rows\n",
            "\n"
          ]
        }
      ]
    },
    {
      "cell_type": "markdown",
      "source": [
        "10) Number of unique Locations in dataset"
      ],
      "metadata": {
        "id": "qStgcnlqSk4Q"
      }
    },
    {
      "cell_type": "code",
      "source": [
        "#printing number of unique locations in the dataset\n",
        "df_dd.select(\"Location\").distinct().count()"
      ],
      "metadata": {
        "colab": {
          "base_uri": "https://localhost:8080/"
        },
        "id": "mh2kWNtTSVdY",
        "outputId": "2821a507-3516-4dea-bd99-fbdcaafed8ff"
      },
      "execution_count": 21,
      "outputs": [
        {
          "output_type": "execute_result",
          "data": {
            "text/plain": [
              "49"
            ]
          },
          "metadata": {},
          "execution_count": 21
        }
      ]
    },
    {
      "cell_type": "markdown",
      "source": [
        "11) Number of times each location appears in the dataset"
      ],
      "metadata": {
        "id": "TVuKRd8CSryF"
      }
    },
    {
      "cell_type": "code",
      "source": [
        "# no of times each location appears in the dataset\n",
        "Unique_locations_appears = df_dd.groupBy(\"Location\").count()\n",
        "Unique_locations_appears.show(Unique_locations_appears.count(), truncate=False)"
      ],
      "metadata": {
        "colab": {
          "base_uri": "https://localhost:8080/"
        },
        "id": "PNBpyuy3Sqge",
        "outputId": "c8f6c08e-910b-4672-b374-b30ddf900514"
      },
      "execution_count": 22,
      "outputs": [
        {
          "output_type": "stream",
          "name": "stdout",
          "text": [
            "+----------------+-----+\n",
            "|Location        |count|\n",
            "+----------------+-----+\n",
            "|Cairns          |2988 |\n",
            "|NorfolkIsland   |2964 |\n",
            "|Bendigo         |3034 |\n",
            "|Canberra        |3418 |\n",
            "|Cobar           |2988 |\n",
            "|SydneyAirport   |3005 |\n",
            "|Wollongong      |2983 |\n",
            "|Williamtown     |2553 |\n",
            "|Moree           |2854 |\n",
            "|Mildura         |3007 |\n",
            "|Portland        |2996 |\n",
            "|Brisbane        |3161 |\n",
            "|Sydney          |3337 |\n",
            "|Sale            |3000 |\n",
            "|BadgerysCreek   |2928 |\n",
            "|Tuggeranong     |2998 |\n",
            "|Ballarat        |3028 |\n",
            "|GoldCoast       |2980 |\n",
            "|MelbourneAirport|3009 |\n",
            "|Dartmoor        |2943 |\n",
            "|Nhil            |1569 |\n",
            "|Albury          |3011 |\n",
            "|WaggaWagga      |2976 |\n",
            "|CoffsHarbour    |2953 |\n",
            "|Melbourne       |2435 |\n",
            "|Penrith         |2964 |\n",
            "|NorahHead       |2929 |\n",
            "|MountGinini     |2907 |\n",
            "|Townsville      |3033 |\n",
            "|Newcastle       |2955 |\n",
            "|Watsonia        |2999 |\n",
            "|Richmond        |2951 |\n",
            "|Walpole         |2819 |\n",
            "|Woomera         |2990 |\n",
            "|Adelaide        |3090 |\n",
            "|PerthAirport    |3009 |\n",
            "|Albany          |3016 |\n",
            "|SalmonGums      |2955 |\n",
            "|Perth           |3193 |\n",
            "|Hobart          |3188 |\n",
            "|PearceRAAF      |2762 |\n",
            "|Witchcliffe     |2952 |\n",
            "|Darwin          |3192 |\n",
            "|Uluru           |1521 |\n",
            "|Nuriootpa       |3002 |\n",
            "|MountGambier    |3030 |\n",
            "|Katherine       |1559 |\n",
            "|AliceSprings    |3031 |\n",
            "|Launceston      |3028 |\n",
            "+----------------+-----+\n",
            "\n"
          ]
        }
      ]
    },
    {
      "cell_type": "markdown",
      "source": [
        "14) Replacing null values of dataset with median value for numerical columns"
      ],
      "metadata": {
        "id": "n5NTKWchS5BA"
      }
    },
    {
      "cell_type": "code",
      "source": [
        "#Replacing null values of data with median for numericals\n",
        "schema = df_dd.schema\n",
        "numerical_columns = [field.name for field in schema if isinstance(field.dataType, FloatType)]\n",
        "medians = {}\n",
        "for column in numerical_columns:\n",
        "    median_value = df_dd.approxQuantile(column, [0.5], 0.01)[0]\n",
        "    medians[column] = median_value\n",
        "for column in numerical_columns:\n",
        "    median_value = medians[column]\n",
        "    df_mn = df_mn.withColumn(column, when(col(column).isNull(), median_value).otherwise(col(column)))\n",
        "df_mn.show()"
      ],
      "metadata": {
        "colab": {
          "base_uri": "https://localhost:8080/"
        },
        "id": "lqrD9wYqSw7r",
        "outputId": "51a32df5-de1d-4134-e8d6-c9431c469ccd"
      },
      "execution_count": null,
      "outputs": [
        {
          "output_type": "stream",
          "name": "stdout",
          "text": [
            "+--------+------------------+------------------+-------------------+-----------------+-----------------+-----------+-------------+----------+----------+------------+------------+-----------+-----------+------------------+------------------+--------+--------+------------------+------------------+---------+------------+----+-----+---+\n",
            "|Location|           MinTemp|           MaxTemp|           Rainfall|      Evaporation|         Sunshine|WindGustDir|WindGustSpeed|WindDir9am|WindDir3pm|WindSpeed9am|WindSpeed3pm|Humidity9am|Humidity3pm|       Pressure9am|       Pressure3pm|Cloud9am|Cloud3pm|           Temp9am|           Temp3pm|RainToday|RainTomorrow|Year|Month|Day|\n",
            "+--------+------------------+------------------+-------------------+-----------------+-----------------+-----------+-------------+----------+----------+------------+------------+-----------+-----------+------------------+------------------+--------+--------+------------------+------------------+---------+------------+----+-----+---+\n",
            "|  Albury|13.399999618530273|22.899999618530273| 0.6000000238418579|4.599999904632568|8.399999618530273|          W|         44.0|         W|       WNW|        20.0|        24.0|       71.0|       22.0|1007.7000122070312|1007.0999755859375|     8.0|     5.0|16.899999618530273|21.799999237060547|       No|          No|2008|   12|  1|\n",
            "|  Albury| 7.400000095367432|25.100000381469727|                0.0|4.599999904632568|8.399999618530273|        WNW|         44.0|       NNW|       WSW|         4.0|        22.0|       44.0|       25.0|1010.5999755859375|1007.7999877929688|     5.0|     5.0|17.200000762939453|24.299999237060547|       No|          No|2008|   12|  2|\n",
            "|  Albury|12.899999618530273|25.700000762939453|                0.0|4.599999904632568|8.399999618530273|        WSW|         46.0|         W|       WSW|        19.0|        26.0|       38.0|       30.0|1007.5999755859375|1008.7000122070312|     5.0|     2.0|              21.0|23.200000762939453|       No|          No|2008|   12|  3|\n",
            "|  Albury| 9.199999809265137|              28.0|                0.0|4.599999904632568|8.399999618530273|         NE|         24.0|        SE|         E|        11.0|         9.0|       45.0|       16.0|1017.5999755859375|1012.7999877929688|     5.0|     5.0|18.100000381469727|              26.5|       No|          No|2008|   12|  4|\n",
            "|  Albury|              17.5| 32.29999923706055|                1.0|4.599999904632568|8.399999618530273|          W|         41.0|       ENE|        NW|         7.0|        20.0|       82.0|       33.0|1010.7999877929688|            1006.0|     7.0|     8.0|17.799999237060547|29.700000762939453|       No|          No|2008|   12|  5|\n",
            "|  Albury|14.600000381469727|29.700000762939453|0.20000000298023224|4.599999904632568|8.399999618530273|        WNW|         56.0|         W|         W|        19.0|        24.0|       55.0|       23.0|1009.2000122070312|1005.4000244140625|     5.0|     5.0|20.600000381469727|28.899999618530273|       No|          No|2008|   12|  6|\n",
            "|  Albury|14.300000190734863|              25.0|                0.0|4.599999904632568|8.399999618530273|          W|         50.0|        SW|         W|        20.0|        24.0|       49.0|       19.0|1009.5999755859375|1008.2000122070312|     1.0|     5.0|18.100000381469727|24.600000381469727|       No|          No|2008|   12|  7|\n",
            "|  Albury| 7.699999809265137|26.700000762939453|                0.0|4.599999904632568|8.399999618530273|          W|         35.0|       SSE|         W|         6.0|        17.0|       48.0|       19.0|1013.4000244140625|1010.0999755859375|     5.0|     5.0|16.299999237060547|              25.5|       No|          No|2008|   12|  8|\n",
            "|  Albury| 9.699999809265137|31.899999618530273|                0.0|4.599999904632568|8.399999618530273|        NNW|         80.0|        SE|        NW|         7.0|        28.0|       42.0|        9.0|1008.9000244140625|1003.5999755859375|     5.0|     5.0|18.299999237060547|30.200000762939453|       No|         Yes|2008|   12|  9|\n",
            "|  Albury|13.100000381469727|30.100000381469727|  1.399999976158142|4.599999904632568|8.399999618530273|          W|         28.0|         S|       SSE|        15.0|        11.0|       58.0|       27.0|            1007.0|1005.7000122070312|     5.0|     5.0|20.100000381469727|28.200000762939453|      Yes|          No|2008|   12| 10|\n",
            "|  Albury|13.399999618530273|30.399999618530273|                0.0|4.599999904632568|8.399999618530273|          N|         30.0|       SSE|       ESE|        17.0|         6.0|       48.0|       22.0|1011.7999877929688|1008.7000122070312|     5.0|     5.0|20.399999618530273|28.799999237060547|       No|         Yes|2008|   12| 11|\n",
            "|  Albury|15.899999618530273|21.700000762939453|  2.200000047683716|4.599999904632568|8.399999618530273|        NNE|         31.0|        NE|       ENE|        15.0|        13.0|       89.0|       91.0|            1010.5|1004.2000122070312|     8.0|     8.0|15.899999618530273|              17.0|      Yes|         Yes|2008|   12| 12|\n",
            "|  Albury|15.899999618530273|18.600000381469727| 15.600000381469727|4.599999904632568|8.399999618530273|          W|         61.0|       NNW|       NNW|        28.0|        28.0|       76.0|       93.0| 994.2999877929688|             993.0|     8.0|     8.0|17.399999618530273|15.800000190734863|      Yes|         Yes|2008|   12| 13|\n",
            "|  Albury|12.600000381469727|              21.0| 3.5999999046325684|4.599999904632568|8.399999618530273|         SW|         44.0|         W|       SSW|        24.0|        20.0|       65.0|       43.0|1001.2000122070312|1001.7999877929688|     5.0|     7.0|15.800000190734863|19.799999237060547|      Yes|          No|2008|   12| 14|\n",
            "|  Albury| 9.800000190734863|27.700000762939453|                0.0|4.599999904632568|8.399999618530273|        WNW|         50.0|        NA|       WNW|        13.0|        22.0|       50.0|       28.0|1013.4000244140625|1010.2999877929688|     0.0|     5.0|17.299999237060547|26.200000762939453|       NA|          No|2008|   12| 16|\n",
            "|  Albury|14.100000381469727|20.899999618530273|                0.0|4.599999904632568|8.399999618530273|        ENE|         22.0|       SSW|         E|        11.0|         9.0|       69.0|       82.0|1012.2000122070312|1010.4000244140625|     8.0|     1.0|17.200000762939453|18.100000381469727|       No|         Yes|2008|   12| 17|\n",
            "|  Albury|              13.5|22.899999618530273| 16.799999237060547|4.599999904632568|8.399999618530273|          W|         63.0|         N|       WNW|         6.0|        20.0|       80.0|       65.0|1005.7999877929688|1002.2000122070312|     8.0|     1.0|              18.0|              21.5|      Yes|         Yes|2008|   12| 18|\n",
            "|  Albury|11.199999809265137|              22.5| 10.600000381469727|4.599999904632568|8.399999618530273|        SSE|         43.0|       WSW|        SW|        24.0|        17.0|       47.0|       32.0|1009.4000244140625|1009.7000122070312|     5.0|     2.0|              15.5|              21.0|      Yes|          No|2008|   12| 19|\n",
            "|  Albury| 9.800000190734863|25.600000381469727|                0.0|4.599999904632568|8.399999618530273|        SSE|         26.0|        SE|       NNW|        17.0|         6.0|       45.0|       26.0|1019.2000122070312|1017.0999755859375|     5.0|     5.0|15.800000190734863|23.200000762939453|       No|          No|2008|   12| 20|\n",
            "|  Albury|              11.5|29.299999237060547|                0.0|4.599999904632568|8.399999618530273|          S|         24.0|        SE|        SE|         9.0|         9.0|       56.0|       28.0|1019.2999877929688|1014.7999877929688|     5.0|     5.0|19.100000381469727|27.299999237060547|       No|          No|2008|   12| 21|\n",
            "+--------+------------------+------------------+-------------------+-----------------+-----------------+-----------+-------------+----------+----------+------------+------------+-----------+-----------+------------------+------------------+--------+--------+------------------+------------------+---------+------------+----+-----+---+\n",
            "only showing top 20 rows\n",
            "\n"
          ]
        }
      ]
    },
    {
      "cell_type": "markdown",
      "source": [
        " Replacing null values of data wuth mode in the categrical columns"
      ],
      "metadata": {
        "id": "k-45PmNOTKHy"
      }
    },
    {
      "cell_type": "code",
      "source": [
        "#Replacing null values of data with mode for categrical\n",
        "string_columns = [field.name for field in schema if isinstance(field.dataType, StringType)]\n",
        "for column in string_columns:\n",
        "    mode_value = df_mn.groupBy(column).count().orderBy(\"count\", ascending=False).first()[0]\n",
        "    df_mc = df_mn.fillna({column: mode_value})\n",
        "df_mc.show()\n"
      ],
      "metadata": {
        "colab": {
          "base_uri": "https://localhost:8080/"
        },
        "id": "vczdOsZGTBtq",
        "outputId": "aabbece7-e716-49a0-c319-01fe6fb0e707"
      },
      "execution_count": null,
      "outputs": [
        {
          "output_type": "stream",
          "name": "stdout",
          "text": [
            "+--------+------------------+------------------+-------------------+-----------------+-----------------+-----------+-------------+----------+----------+------------+------------+-----------+-----------+------------------+------------------+--------+--------+------------------+------------------+---------+------------+----+-----+---+\n",
            "|Location|           MinTemp|           MaxTemp|           Rainfall|      Evaporation|         Sunshine|WindGustDir|WindGustSpeed|WindDir9am|WindDir3pm|WindSpeed9am|WindSpeed3pm|Humidity9am|Humidity3pm|       Pressure9am|       Pressure3pm|Cloud9am|Cloud3pm|           Temp9am|           Temp3pm|RainToday|RainTomorrow|Year|Month|Day|\n",
            "+--------+------------------+------------------+-------------------+-----------------+-----------------+-----------+-------------+----------+----------+------------+------------+-----------+-----------+------------------+------------------+--------+--------+------------------+------------------+---------+------------+----+-----+---+\n",
            "|  Albury|13.399999618530273|22.899999618530273| 0.6000000238418579|4.599999904632568|8.399999618530273|          W|         44.0|         W|       WNW|        20.0|        24.0|       71.0|       22.0|1007.7000122070312|1007.0999755859375|     8.0|     5.0|16.899999618530273|21.799999237060547|       No|          No|2008|   12|  1|\n",
            "|  Albury| 7.400000095367432|25.100000381469727|                0.0|4.599999904632568|8.399999618530273|        WNW|         44.0|       NNW|       WSW|         4.0|        22.0|       44.0|       25.0|1010.5999755859375|1007.7999877929688|     5.0|     5.0|17.200000762939453|24.299999237060547|       No|          No|2008|   12|  2|\n",
            "|  Albury|12.899999618530273|25.700000762939453|                0.0|4.599999904632568|8.399999618530273|        WSW|         46.0|         W|       WSW|        19.0|        26.0|       38.0|       30.0|1007.5999755859375|1008.7000122070312|     5.0|     2.0|              21.0|23.200000762939453|       No|          No|2008|   12|  3|\n",
            "|  Albury| 9.199999809265137|              28.0|                0.0|4.599999904632568|8.399999618530273|         NE|         24.0|        SE|         E|        11.0|         9.0|       45.0|       16.0|1017.5999755859375|1012.7999877929688|     5.0|     5.0|18.100000381469727|              26.5|       No|          No|2008|   12|  4|\n",
            "|  Albury|              17.5| 32.29999923706055|                1.0|4.599999904632568|8.399999618530273|          W|         41.0|       ENE|        NW|         7.0|        20.0|       82.0|       33.0|1010.7999877929688|            1006.0|     7.0|     8.0|17.799999237060547|29.700000762939453|       No|          No|2008|   12|  5|\n",
            "|  Albury|14.600000381469727|29.700000762939453|0.20000000298023224|4.599999904632568|8.399999618530273|        WNW|         56.0|         W|         W|        19.0|        24.0|       55.0|       23.0|1009.2000122070312|1005.4000244140625|     5.0|     5.0|20.600000381469727|28.899999618530273|       No|          No|2008|   12|  6|\n",
            "|  Albury|14.300000190734863|              25.0|                0.0|4.599999904632568|8.399999618530273|          W|         50.0|        SW|         W|        20.0|        24.0|       49.0|       19.0|1009.5999755859375|1008.2000122070312|     1.0|     5.0|18.100000381469727|24.600000381469727|       No|          No|2008|   12|  7|\n",
            "|  Albury| 7.699999809265137|26.700000762939453|                0.0|4.599999904632568|8.399999618530273|          W|         35.0|       SSE|         W|         6.0|        17.0|       48.0|       19.0|1013.4000244140625|1010.0999755859375|     5.0|     5.0|16.299999237060547|              25.5|       No|          No|2008|   12|  8|\n",
            "|  Albury| 9.699999809265137|31.899999618530273|                0.0|4.599999904632568|8.399999618530273|        NNW|         80.0|        SE|        NW|         7.0|        28.0|       42.0|        9.0|1008.9000244140625|1003.5999755859375|     5.0|     5.0|18.299999237060547|30.200000762939453|       No|         Yes|2008|   12|  9|\n",
            "|  Albury|13.100000381469727|30.100000381469727|  1.399999976158142|4.599999904632568|8.399999618530273|          W|         28.0|         S|       SSE|        15.0|        11.0|       58.0|       27.0|            1007.0|1005.7000122070312|     5.0|     5.0|20.100000381469727|28.200000762939453|      Yes|          No|2008|   12| 10|\n",
            "|  Albury|13.399999618530273|30.399999618530273|                0.0|4.599999904632568|8.399999618530273|          N|         30.0|       SSE|       ESE|        17.0|         6.0|       48.0|       22.0|1011.7999877929688|1008.7000122070312|     5.0|     5.0|20.399999618530273|28.799999237060547|       No|         Yes|2008|   12| 11|\n",
            "|  Albury|15.899999618530273|21.700000762939453|  2.200000047683716|4.599999904632568|8.399999618530273|        NNE|         31.0|        NE|       ENE|        15.0|        13.0|       89.0|       91.0|            1010.5|1004.2000122070312|     8.0|     8.0|15.899999618530273|              17.0|      Yes|         Yes|2008|   12| 12|\n",
            "|  Albury|15.899999618530273|18.600000381469727| 15.600000381469727|4.599999904632568|8.399999618530273|          W|         61.0|       NNW|       NNW|        28.0|        28.0|       76.0|       93.0| 994.2999877929688|             993.0|     8.0|     8.0|17.399999618530273|15.800000190734863|      Yes|         Yes|2008|   12| 13|\n",
            "|  Albury|12.600000381469727|              21.0| 3.5999999046325684|4.599999904632568|8.399999618530273|         SW|         44.0|         W|       SSW|        24.0|        20.0|       65.0|       43.0|1001.2000122070312|1001.7999877929688|     5.0|     7.0|15.800000190734863|19.799999237060547|      Yes|          No|2008|   12| 14|\n",
            "|  Albury| 9.800000190734863|27.700000762939453|                0.0|4.599999904632568|8.399999618530273|        WNW|         50.0|        NA|       WNW|        13.0|        22.0|       50.0|       28.0|1013.4000244140625|1010.2999877929688|     0.0|     5.0|17.299999237060547|26.200000762939453|       NA|          No|2008|   12| 16|\n",
            "|  Albury|14.100000381469727|20.899999618530273|                0.0|4.599999904632568|8.399999618530273|        ENE|         22.0|       SSW|         E|        11.0|         9.0|       69.0|       82.0|1012.2000122070312|1010.4000244140625|     8.0|     1.0|17.200000762939453|18.100000381469727|       No|         Yes|2008|   12| 17|\n",
            "|  Albury|              13.5|22.899999618530273| 16.799999237060547|4.599999904632568|8.399999618530273|          W|         63.0|         N|       WNW|         6.0|        20.0|       80.0|       65.0|1005.7999877929688|1002.2000122070312|     8.0|     1.0|              18.0|              21.5|      Yes|         Yes|2008|   12| 18|\n",
            "|  Albury|11.199999809265137|              22.5| 10.600000381469727|4.599999904632568|8.399999618530273|        SSE|         43.0|       WSW|        SW|        24.0|        17.0|       47.0|       32.0|1009.4000244140625|1009.7000122070312|     5.0|     2.0|              15.5|              21.0|      Yes|          No|2008|   12| 19|\n",
            "|  Albury| 9.800000190734863|25.600000381469727|                0.0|4.599999904632568|8.399999618530273|        SSE|         26.0|        SE|       NNW|        17.0|         6.0|       45.0|       26.0|1019.2000122070312|1017.0999755859375|     5.0|     5.0|15.800000190734863|23.200000762939453|       No|          No|2008|   12| 20|\n",
            "|  Albury|              11.5|29.299999237060547|                0.0|4.599999904632568|8.399999618530273|          S|         24.0|        SE|        SE|         9.0|         9.0|       56.0|       28.0|1019.2999877929688|1014.7999877929688|     5.0|     5.0|19.100000381469727|27.299999237060547|       No|          No|2008|   12| 21|\n",
            "+--------+------------------+------------------+-------------------+-----------------+-----------------+-----------+-------------+----------+----------+------------+------------+-----------+-----------+------------------+------------------+--------+--------+------------------+------------------+---------+------------+----+-----+---+\n",
            "only showing top 20 rows\n",
            "\n"
          ]
        }
      ]
    },
    {
      "cell_type": "markdown",
      "source": [
        "12) performing one hot encoding"
      ],
      "metadata": {
        "id": "rspzy3ap46VM"
      }
    },
    {
      "cell_type": "code",
      "source": [
        "# OneHotEncoding for string columns\n",
        "indexers = [StringIndexer(inputCol=column, outputCol=column + \"_index\", handleInvalid=\"keep\") for column in string_columns]\n",
        "encoders = [OneHotEncoder(inputCol=indexer.getOutputCol(), outputCol= indexer.getInputCol() + \"_vec\") for indexer in indexers]\n"
      ],
      "metadata": {
        "id": "FEZJjZkygZSN"
      },
      "execution_count": null,
      "outputs": []
    },
    {
      "cell_type": "markdown",
      "source": [
        "13) RainTomorrow is the label, and all other fields are features"
      ],
      "metadata": {
        "id": "Y4YerBXp5GxB"
      }
    },
    {
      "cell_type": "code",
      "source": [
        "# Using vec_Assembler to assemble features into a single vector\n",
        "vec_assembler = VectorAssembler(inputCols=[\n",
        "    'MinTemp', 'MaxTemp', 'Rainfall', 'Evaporation', 'Sunshine', 'WindGustSpeed', 'WindSpeed9am', 'WindSpeed3pm', 'Humidity9am', 'Humidity3pm',\n",
        "    'Pressure9am', 'Pressure3pm', 'Cloud9am', 'Cloud3pm', 'Temp9am', 'Temp3pm', 'Year', 'Month', 'Day',\n",
        "    'Location_vec', 'WindGustDir_vec', 'WindDir9am_vec', 'WindDir3pm_vec', 'RainToday_vec'\n",
        "], outputCol='features')\n",
        "label_indexer = StringIndexer(inputCol=\"RainTomorrow\", outputCol=\"RainTomorrowLabel\")"
      ],
      "metadata": {
        "id": "CPl-QbyagZO6"
      },
      "execution_count": null,
      "outputs": []
    },
    {
      "cell_type": "markdown",
      "source": [
        "15) Normalization of data"
      ],
      "metadata": {
        "id": "Evaajhx-5Vbg"
      }
    },
    {
      "cell_type": "code",
      "source": [
        "from pyspark.ml.feature import MinMaxScaler\n",
        "from pyspark.ml.linalg import Vectors\n",
        "from pyspark.sql import SparkSession\n",
        "\n",
        "# Initialize MinMaxScaler\n",
        "scaler = MinMaxScaler(inputCol=\"features\", outputCol=\"normalized_features\")\n"
      ],
      "metadata": {
        "id": "xfwESevugZLj"
      },
      "execution_count": null,
      "outputs": []
    },
    {
      "cell_type": "markdown",
      "source": [
        "16) Training with Logistic Regression model on the training dataset (70% 30% split)."
      ],
      "metadata": {
        "id": "URNrYEQ9rT0c"
      }
    },
    {
      "cell_type": "code",
      "source": [
        "from pyspark.ml.classification import LogisticRegression\n",
        "from pyspark.ml import Pipeline\n",
        "lr_model = LogisticRegression(featuresCol=\"normalized_features\", labelCol=\"RainTomorrowLabel\")"
      ],
      "metadata": {
        "id": "4tugw_AygZHx"
      },
      "execution_count": null,
      "outputs": []
    },
    {
      "cell_type": "code",
      "source": [
        "#Creating pipeline\n",
        "pipeline = Pipeline(stages=indexers + encoders + [vec_assembler, scaler, label_indexer, lr_model])\n",
        "pipeline.getStages()"
      ],
      "metadata": {
        "colab": {
          "base_uri": "https://localhost:8080/"
        },
        "id": "JBFobjQMgmT4",
        "outputId": "0e0c1f3d-c164-4095-81b8-f4001803fc25"
      },
      "execution_count": null,
      "outputs": [
        {
          "output_type": "execute_result",
          "data": {
            "text/plain": [
              "[StringIndexer_dcab8e503e84,\n",
              " StringIndexer_d903dd2d7d60,\n",
              " StringIndexer_4e7a7d0aade5,\n",
              " StringIndexer_7e7c43c27a6d,\n",
              " StringIndexer_09fe9a17d25a,\n",
              " StringIndexer_39633e5fc6f0,\n",
              " OneHotEncoder_06176624f726,\n",
              " OneHotEncoder_d28fc6407e1b,\n",
              " OneHotEncoder_794b4c34abb7,\n",
              " OneHotEncoder_0c2cb50da65f,\n",
              " OneHotEncoder_73c53b1f2f50,\n",
              " OneHotEncoder_c0ff7184a721,\n",
              " VectorAssembler_8098424ee15e,\n",
              " MinMaxScaler_b4bdae6bc391,\n",
              " StringIndexer_c346ec105569,\n",
              " LogisticRegression_319a263e84b0]"
            ]
          },
          "metadata": {},
          "execution_count": 38
        }
      ]
    },
    {
      "cell_type": "code",
      "source": [
        "#spliting the dataset\n",
        "train_data, test_data = df_mc.randomSplit([0.7,.3], seed=64)\n"
      ],
      "metadata": {
        "id": "X1tR9BQggmQs"
      },
      "execution_count": null,
      "outputs": []
    },
    {
      "cell_type": "code",
      "source": [
        "#printing no of rows in trainig and testing for the dataset\n",
        "print(\"Number of rows in training set:\", train_data.count())\n",
        "print(\"Number of rows in testing set:\", test_data.count())\n",
        "fit_model = pipeline.fit(train_data)\n",
        "results = fit_model.transform(test_data)\n"
      ],
      "metadata": {
        "id": "4taxqc--gmM6",
        "colab": {
          "base_uri": "https://localhost:8080/"
        },
        "outputId": "0fee17b5-7e3b-4a60-94f4-4b018a473ffc"
      },
      "execution_count": null,
      "outputs": [
        {
          "output_type": "stream",
          "name": "stdout",
          "text": [
            "Number of rows in training set: 99610\n",
            "Number of rows in testing set: 42583\n"
          ]
        }
      ]
    },
    {
      "cell_type": "code",
      "source": [
        "#printing the results of the model\n",
        "results.show(100)"
      ],
      "metadata": {
        "colab": {
          "base_uri": "https://localhost:8080/"
        },
        "id": "LWQD2N68h0eS",
        "outputId": "31e2a727-d97a-46a6-9b27-7b09167c8395"
      },
      "execution_count": null,
      "outputs": [
        {
          "output_type": "stream",
          "name": "stdout",
          "text": [
            "+--------+--------------------+------------------+-------------------+-----------------+-----------------+-----------+-------------+----------+----------+------------+------------+-----------+-----------+------------------+------------------+--------+--------+-------------------+------------------+---------+------------+----+-----+---+--------------+-----------------+----------------+----------------+---------------+------------------+---------------+---------------+---------------+---------------+-------------+----------------+--------------------+--------------------+-----------------+--------------------+--------------------+----------+\n",
            "|Location|             MinTemp|           MaxTemp|           Rainfall|      Evaporation|         Sunshine|WindGustDir|WindGustSpeed|WindDir9am|WindDir3pm|WindSpeed9am|WindSpeed3pm|Humidity9am|Humidity3pm|       Pressure9am|       Pressure3pm|Cloud9am|Cloud3pm|            Temp9am|           Temp3pm|RainToday|RainTomorrow|Year|Month|Day|Location_index|WindGustDir_index|WindDir9am_index|WindDir3pm_index|RainToday_index|RainTomorrow_index|   Location_vec|WindGustDir_vec| WindDir9am_vec| WindDir3pm_vec|RainToday_vec|RainTomorrow_vec|            features| normalized_features|RainTomorrowLabel|       rawPrediction|         probability|prediction|\n",
            "+--------+--------------------+------------------+-------------------+-----------------+-----------------+-----------+-------------+----------+----------+------------+------------+-----------+-----------+------------------+------------------+--------+--------+-------------------+------------------+---------+------------+----+-----+---+--------------+-----------------+----------------+----------------+---------------+------------------+---------------+---------------+---------------+---------------+-------------+----------------+--------------------+--------------------+-----------------+--------------------+--------------------+----------+\n",
            "|  Albury|  -2.799999952316284|              13.5|                0.0|4.599999904632568|8.399999618530273|        WNW|         24.0|       ESE|         W|         6.0|        13.0|       94.0|       56.0|1035.9000244140625|1032.5999755859375|     6.0|     5.0|  2.200000047683716|              13.0|       No|          No|2014|    8|  5|          25.0|             10.0|            12.0|             1.0|            0.0|               0.0|(49,[25],[1.0])|(17,[10],[1.0])|(17,[12],[1.0])| (17,[1],[1.0])|(3,[0],[1.0])|   (2,[0],[1.0])|(122,[0,1,3,4,5,6...|(122,[0,1,3,4,5,6...|              0.0|[3.21019337369645...|[0.96121607510233...|       0.0|\n",
            "|  Albury|                -2.5|13.300000190734863|                0.0|4.599999904632568|8.399999618530273|        SSE|         17.0|        NA|        SE|         0.0|         7.0|       94.0|       58.0|1034.4000244140625| 1030.699951171875|     5.0|     5.0| 2.9000000953674316|12.800000190734863|       No|          No|2012|    7|  7|          25.0|              3.0|             1.0|             0.0|            0.0|               0.0|(49,[25],[1.0])| (17,[3],[1.0])| (17,[1],[1.0])| (17,[0],[1.0])|(3,[0],[1.0])|   (2,[0],[1.0])|(122,[0,1,3,4,5,7...|(122,[0,1,3,4,5,7...|              0.0|[3.13351112417420...|[0.95825407536489...|       0.0|\n",
            "|  Albury|                -2.0|13.199999809265137|                0.0|4.599999904632568|8.399999618530273|        ESE|         17.0|        NA|         E|         0.0|         6.0|       85.0|       50.0| 1035.199951171875|            1032.0|     5.0|     6.0|  2.200000047683716|12.600000381469727|       No|          No|2010|    6| 14|          25.0|             13.0|             1.0|            10.0|            0.0|               0.0|(49,[25],[1.0])|(17,[13],[1.0])| (17,[1],[1.0])|(17,[10],[1.0])|(3,[0],[1.0])|   (2,[0],[1.0])|(122,[0,1,3,4,5,7...|(122,[0,1,3,4,5,7...|              0.0|[3.62280121587103...|[0.97398699169990...|       0.0|\n",
            "|  Albury| -1.7999999523162842|12.100000381469727|                0.0|4.599999904632568|8.399999618530273|        NNW|         17.0|        NA|        SW|         0.0|         2.0|       87.0|       65.0| 1024.199951171875|1020.2999877929688|     5.0|     5.0|  4.900000095367432|11.199999809265137|       No|          No|2012|    8|  2|          25.0|             15.0|             1.0|             5.0|            0.0|               0.0|(49,[25],[1.0])|(17,[15],[1.0])| (17,[1],[1.0])| (17,[5],[1.0])|(3,[0],[1.0])|   (2,[0],[1.0])|(122,[0,1,3,4,5,7...|(122,[0,1,3,4,5,7...|              0.0|[2.08332839243860...|[0.88927219551270...|       0.0|\n",
            "|  Albury| -1.7000000476837158|10.600000381469727|  0.800000011920929|4.599999904632568|8.399999618530273|        NNW|         24.0|        SE|        NW|         4.0|        17.0|      100.0|       68.0|1025.0999755859375| 1025.300048828125|     8.0|     8.0|0.30000001192092896|10.399999618530273|       No|          No|2012|    6| 23|          25.0|             15.0|             2.0|             8.0|            0.0|               0.0|(49,[25],[1.0])|(17,[15],[1.0])| (17,[2],[1.0])| (17,[8],[1.0])|(3,[0],[1.0])|   (2,[0],[1.0])|(122,[0,1,2,3,4,5...|(122,[0,1,2,3,4,5...|              0.0|[1.79414217532537...|[0.85743436886852...|       0.0|\n",
            "|  Albury| -1.7000000476837158|13.800000190734863|                0.0|4.599999904632568|8.399999618530273|          E|         17.0|        NA|       ESE|         0.0|         7.0|       84.0|       54.0|1030.4000244140625|1028.0999755859375|     5.0|     5.0|  3.299999952316284|12.399999618530273|       No|          No|2009|    7|  8|          25.0|              5.0|             1.0|             9.0|            0.0|               0.0|(49,[25],[1.0])| (17,[5],[1.0])| (17,[1],[1.0])| (17,[9],[1.0])|(3,[0],[1.0])|   (2,[0],[1.0])|(122,[0,1,3,4,5,7...|(122,[0,1,3,4,5,7...|              0.0|[3.66991436968068...|[0.97515438126514...|       0.0|\n",
            "|  Albury|  -1.600000023841858|12.100000381469727|                0.0|4.599999904632568|8.399999618530273|          E|         17.0|        NA|         E|         0.0|         7.0|       95.0|       46.0|1036.5999755859375| 1033.300048828125|     5.0|     5.0| 2.5999999046325684|              12.0|       No|          No|2011|    7| 15|          25.0|              5.0|             1.0|            10.0|            0.0|               0.0|(49,[25],[1.0])| (17,[5],[1.0])| (17,[1],[1.0])|(17,[10],[1.0])|(3,[0],[1.0])|   (2,[0],[1.0])|(122,[0,1,3,4,5,7...|(122,[0,1,3,4,5,7...|              0.0|[4.07808963361138...|[0.98334238069416...|       0.0|\n",
            "|  Albury|                -1.5|              13.0|                0.0|4.599999904632568|8.399999618530273|         SE|         13.0|       ESE|        SE|         4.0|         9.0|       83.0|       52.0| 1034.699951171875|1032.0999755859375|     5.0|     5.0|                3.0|12.399999618530273|       No|          No|2015|    7| 19|          25.0|              2.0|            12.0|             0.0|            0.0|               0.0|(49,[25],[1.0])| (17,[2],[1.0])|(17,[12],[1.0])| (17,[0],[1.0])|(3,[0],[1.0])|   (2,[0],[1.0])|(122,[0,1,3,4,5,6...|(122,[0,1,3,4,5,6...|              0.0|[3.97228267749036...|[0.98151763011567...|       0.0|\n",
            "|  Albury|  -1.399999976158142|              11.5|0.20000000298023224|4.599999904632568|8.399999618530273|          W|         31.0|       WNW|       WSW|         6.0|        20.0|       88.0|       66.0|1019.0999755859375|1019.2999877929688|     5.0|     3.0| 3.5999999046325684|10.399999618530273|       No|          No|2015|    7| 17|          25.0|              0.0|            15.0|             3.0|            0.0|               0.0|(49,[25],[1.0])| (17,[0],[1.0])|(17,[15],[1.0])| (17,[3],[1.0])|(3,[0],[1.0])|   (2,[0],[1.0])|(122,[0,1,2,3,4,5...|(122,[0,1,2,3,4,5...|              0.0|[2.07307356870004...|[0.88825839403770...|       0.0|\n",
            "|  Albury| -1.2999999523162842|12.600000381469727|                0.0|4.599999904632568|8.399999618530273|        SSE|         15.0|        NA|       ESE|         0.0|         9.0|       86.0|       58.0|1022.2000122070312|1018.7999877929688|     5.0|     8.0|  4.300000190734863|12.199999809265137|       No|          No|2010|    8|  8|          25.0|              3.0|             1.0|             9.0|            0.0|               0.0|(49,[25],[1.0])| (17,[3],[1.0])| (17,[1],[1.0])| (17,[9],[1.0])|(3,[0],[1.0])|   (2,[0],[1.0])|(122,[0,1,3,4,5,7...|(122,[0,1,3,4,5,7...|              0.0|[2.27913650472955...|[0.90713433019625...|       0.0|\n",
            "|  Albury| -1.2999999523162842|13.800000190734863|0.20000000298023224|4.599999904632568|8.399999618530273|        SSE|         13.0|        NA|        SE|         0.0|         6.0|       89.0|       54.0|1026.5999755859375|1023.7000122070312|     5.0|     5.0|  3.299999952316284|              13.0|       No|          No|2014|    7| 22|          25.0|              3.0|             1.0|             0.0|            0.0|               0.0|(49,[25],[1.0])| (17,[3],[1.0])| (17,[1],[1.0])| (17,[0],[1.0])|(3,[0],[1.0])|   (2,[0],[1.0])|(122,[0,1,2,3,4,5...|(122,[0,1,2,3,4,5...|              0.0|[3.28058001925927...|[0.96375654906931...|       0.0|\n",
            "|  Albury| -1.2999999523162842|13.899999618530273|                0.0|4.599999904632568|8.399999618530273|        SSE|         20.0|        NA|       ENE|         0.0|         9.0|       80.0|       47.0|1029.0999755859375|            1025.5|     5.0|     5.0|  4.800000190734863|12.399999618530273|       No|          No|2012|    7| 31|          25.0|              3.0|             1.0|            13.0|            0.0|               0.0|(49,[25],[1.0])| (17,[3],[1.0])| (17,[1],[1.0])|(17,[13],[1.0])|(3,[0],[1.0])|   (2,[0],[1.0])|(122,[0,1,3,4,5,7...|(122,[0,1,3,4,5,7...|              0.0|[3.31270058802677...|[0.96486195484204...|       0.0|\n",
            "|  Albury|                -1.0|              12.0|                0.0|4.599999904632568|8.399999618530273|          N|         20.0|        NA|         N|         0.0|        11.0|       98.0|       64.0|            1023.0|            1019.5|     7.0|     5.0|  3.200000047683716|11.199999809265137|       No|          No|2009|    7| 18|          25.0|              4.0|             1.0|             6.0|            0.0|               0.0|(49,[25],[1.0])| (17,[4],[1.0])| (17,[1],[1.0])| (17,[6],[1.0])|(3,[0],[1.0])|   (2,[0],[1.0])|(122,[0,1,3,4,5,7...|(122,[0,1,3,4,5,7...|              0.0|[1.79827187948279...|[0.85793844190199...|       0.0|\n",
            "|  Albury|                -1.0|13.399999618530273|                0.0|4.599999904632568|8.399999618530273|         SE|         22.0|        NA|        SE|         0.0|         9.0|       85.0|       51.0|1033.4000244140625|            1032.0|     5.0|     5.0|  4.699999809265137|13.199999809265137|       No|          No|2015|    6| 10|          25.0|              2.0|             1.0|             0.0|            0.0|               0.0|(49,[25],[1.0])| (17,[2],[1.0])| (17,[1],[1.0])| (17,[0],[1.0])|(3,[0],[1.0])|   (2,[0],[1.0])|(122,[0,1,3,4,5,7...|(122,[0,1,3,4,5,7...|              0.0|[3.57508777423817...|[0.97275037596526...|       0.0|\n",
            "|  Albury|                -1.0|14.199999809265137|0.20000000298023224|4.599999904632568|8.399999618530273|         SE|         17.0|        NA|         E|         0.0|         7.0|       83.0|       48.0| 1035.199951171875| 1033.199951171875|     5.0|     5.0|                3.5|12.699999809265137|       No|          No|2012|    7|  5|          25.0|              2.0|             1.0|            10.0|            0.0|               0.0|(49,[25],[1.0])| (17,[2],[1.0])| (17,[1],[1.0])|(17,[10],[1.0])|(3,[0],[1.0])|   (2,[0],[1.0])|(122,[0,1,2,3,4,5...|(122,[0,1,2,3,4,5...|              0.0|[4.06474821210549...|[0.98312243122567...|       0.0|\n",
            "|  Albury| -0.8999999761581421|12.600000381469727|0.20000000298023224|4.599999904632568|8.399999618530273|        NNW|         13.0|       NNW|       ESE|         2.0|         9.0|      100.0|       54.0|            1034.0| 1029.800048828125|     3.0|     8.0|  3.700000047683716|11.899999618530273|       No|          No|2014|    7| 14|          25.0|             15.0|            10.0|             9.0|            0.0|               0.0|(49,[25],[1.0])|(17,[15],[1.0])|(17,[10],[1.0])| (17,[9],[1.0])|(3,[0],[1.0])|   (2,[0],[1.0])|(122,[0,1,2,3,4,5...|(122,[0,1,2,3,4,5...|              0.0|[2.97330220447334...|[0.95135333156865...|       0.0|\n",
            "|  Albury|  -0.800000011920929|12.699999809265137| 0.6000000238418579|4.599999904632568|8.399999618530273|          W|         24.0|        NA|         W|         0.0|        17.0|      100.0|       58.0|            1024.5|1023.2000122070312|     8.0|     3.0|  2.299999952316284|11.100000381469727|       No|          No|2012|    7| 19|          25.0|              0.0|             1.0|             1.0|            0.0|               0.0|(49,[25],[1.0])| (17,[0],[1.0])| (17,[1],[1.0])| (17,[1],[1.0])|(3,[0],[1.0])|   (2,[0],[1.0])|(122,[0,1,2,3,4,5...|(122,[0,1,2,3,4,5...|              0.0|[2.99019881411552...|[0.95212937271928...|       0.0|\n",
            "|  Albury|  -0.699999988079071|16.200000762939453|                0.0|4.599999904632568|8.399999618530273|         SE|         13.0|        NA|        SE|         0.0|         4.0|       79.0|       48.0|1035.9000244140625| 1032.800048828125|     5.0|     5.0|  6.099999904632568|15.600000381469727|       No|          No|2014|    8| 14|          25.0|              2.0|             1.0|             0.0|            0.0|               0.0|(49,[25],[1.0])| (17,[2],[1.0])| (17,[1],[1.0])| (17,[0],[1.0])|(3,[0],[1.0])|   (2,[0],[1.0])|(122,[0,1,3,4,5,7...|(122,[0,1,3,4,5,7...|              0.0|[4.04352531670585...|[0.98276665118990...|       0.0|\n",
            "|  Albury| -0.6000000238418579|13.800000190734863|0.20000000298023224|4.599999904632568|8.399999618530273|          E|         17.0|        NA|        SE|         0.0|         6.0|       88.0|       59.0|1039.9000244140625|            1036.0|     5.0|     5.0|                4.0|13.399999618530273|       No|          No|2016|    6| 13|          25.0|              5.0|             1.0|             0.0|            0.0|               0.0|(49,[25],[1.0])| (17,[5],[1.0])| (17,[1],[1.0])| (17,[0],[1.0])|(3,[0],[1.0])|   (2,[0],[1.0])|(122,[0,1,2,3,4,5...|(122,[0,1,2,3,4,5...|              0.0|[3.37629386850773...|[0.96695538914531...|       0.0|\n",
            "|  Albury| -0.6000000238418579|15.800000190734863|                0.0|4.599999904632568|8.399999618530273|        SSE|         20.0|       WNW|       SSE|         6.0|        13.0|       81.0|       48.0| 1027.199951171875|1025.9000244140625|     5.0|     5.0|  6.300000190734863|              15.5|       No|          No|2017|    6|  7|          25.0|              3.0|            15.0|             4.0|            0.0|               0.0|(49,[25],[1.0])| (17,[3],[1.0])|(17,[15],[1.0])| (17,[4],[1.0])|(3,[0],[1.0])|   (2,[0],[1.0])|(122,[0,1,3,4,5,6...|(122,[0,1,3,4,5,6...|              0.0|[3.54103028078701...|[0.97183292832843...|       0.0|\n",
            "|  Albury|                -0.5|13.199999809265137|                0.0|4.599999904632568|8.399999618530273|         SE|         17.0|        NA|        SE|         0.0|        11.0|       92.0|       61.0|1030.0999755859375| 1025.300048828125|     3.0|     2.0|  3.299999952316284|12.600000381469727|       No|         Yes|2015|    7|  9|          25.0|              2.0|             1.0|             0.0|            0.0|               1.0|(49,[25],[1.0])| (17,[2],[1.0])| (17,[1],[1.0])| (17,[0],[1.0])|(3,[0],[1.0])|   (2,[1],[1.0])|(122,[0,1,3,4,5,7...|(122,[0,1,3,4,5,7...|              1.0|[2.84037691560799...|[0.94481911636672...|       0.0|\n",
            "|  Albury|                -0.5|13.800000190734863|                0.0|4.599999904632568|8.399999618530273|         SW|         19.0|        NA|        SW|         0.0|        11.0|       89.0|       51.0| 1032.699951171875| 1030.699951171875|     7.0|     1.0|                4.0|12.399999618530273|       No|          No|2010|    7| 22|          25.0|              8.0|             1.0|             5.0|            0.0|               0.0|(49,[25],[1.0])| (17,[8],[1.0])| (17,[1],[1.0])| (17,[5],[1.0])|(3,[0],[1.0])|   (2,[0],[1.0])|(122,[0,1,3,4,5,7...|(122,[0,1,3,4,5,7...|              0.0|[4.39843896338444...|[0.98785284746023...|       0.0|\n",
            "|  Albury|                -0.5|15.300000190734863|                0.0|4.599999904632568|8.399999618530273|          E|         13.0|        NA|         E|         0.0|         9.0|       90.0|       50.0|            1034.5|            1031.0|     5.0|     5.0|  4.599999904632568|14.199999809265137|       No|          No|2017|    6|  3|          25.0|              5.0|             1.0|            10.0|            0.0|               0.0|(49,[25],[1.0])| (17,[5],[1.0])| (17,[1],[1.0])|(17,[10],[1.0])|(3,[0],[1.0])|   (2,[0],[1.0])|(122,[0,1,3,4,5,7...|(122,[0,1,3,4,5,7...|              0.0|[3.94921710063262...|[0.98109452226611...|       0.0|\n",
            "|  Albury| -0.4000000059604645|              15.0|0.20000000298023224|4.599999904632568|8.399999618530273|        ESE|         13.0|        NA|        SE|         0.0|         7.0|       84.0|       54.0|            1032.0|1028.5999755859375|     5.0|     5.0|  3.799999952316284|14.300000190734863|       No|          No|2009|    7|  9|          25.0|             13.0|             1.0|             0.0|            0.0|               0.0|(49,[25],[1.0])|(17,[13],[1.0])| (17,[1],[1.0])| (17,[0],[1.0])|(3,[0],[1.0])|   (2,[0],[1.0])|(122,[0,1,2,3,4,5...|(122,[0,1,2,3,4,5...|              0.0|[3.53220875067100...|[0.97159044279539...|       0.0|\n",
            "|  Albury|-0.30000001192092896|12.199999809265137|                0.0|4.599999904632568|8.399999618530273|         NE|         20.0|        NA|        NE|         0.0|         9.0|       95.0|       61.0| 1026.800048828125|1022.7000122070312|     5.0|     5.0|                2.5|10.800000190734863|       No|          No|2009|    7| 25|          25.0|             14.0|             1.0|            11.0|            0.0|               0.0|(49,[25],[1.0])|(17,[14],[1.0])| (17,[1],[1.0])|(17,[11],[1.0])|(3,[0],[1.0])|   (2,[0],[1.0])|(122,[0,1,3,4,5,7...|(122,[0,1,3,4,5,7...|              0.0|[2.61171674531897...|[0.93161185327118...|       0.0|\n",
            "|  Albury|-0.30000001192092896|14.399999618530273|0.20000000298023224|4.599999904632568|8.399999618530273|          N|         17.0|       NNE|        SW|         4.0|         6.0|       88.0|       52.0|1022.4000244140625|1020.5999755859375|     5.0|     5.0|                4.5|14.199999809265137|       No|          No|2009|    7| 17|          25.0|              4.0|             9.0|             5.0|            0.0|               0.0|(49,[25],[1.0])| (17,[4],[1.0])| (17,[9],[1.0])| (17,[5],[1.0])|(3,[0],[1.0])|   (2,[0],[1.0])|(122,[0,1,2,3,4,5...|(122,[0,1,2,3,4,5...|              0.0|[2.93204643395181...|[0.94940806064201...|       0.0|\n",
            "|  Albury|-0.20000000298023224|13.899999618530273|0.20000000298023224|4.599999904632568|8.399999618530273|        WNW|         17.0|        SW|         S|         6.0|         6.0|      100.0|       47.0| 1029.300048828125|1028.5999755859375|     8.0|     5.0|                3.0|12.199999809265137|       No|          No|2012|    7|  4|          25.0|             10.0|             8.0|             2.0|            0.0|               0.0|(49,[25],[1.0])|(17,[10],[1.0])| (17,[8],[1.0])| (17,[2],[1.0])|(3,[0],[1.0])|   (2,[0],[1.0])|(122,[0,1,2,3,4,5...|(122,[0,1,2,3,4,5...|              0.0|[3.85335927329792...|[0.97923208181143...|       0.0|\n",
            "|  Albury|-0.20000000298023224|14.899999618530273|                0.0|4.599999904632568|8.399999618530273|         SE|         43.0|       SSE|       ESE|         6.0|        11.0|       55.0|       38.0| 1031.699951171875|1028.9000244140625|     5.0|     5.0|  9.300000190734863|14.600000381469727|       No|          No|2015|    9| 23|          25.0|              2.0|             3.0|             9.0|            0.0|               0.0|(49,[25],[1.0])| (17,[2],[1.0])| (17,[3],[1.0])| (17,[9],[1.0])|(3,[0],[1.0])|   (2,[0],[1.0])|(122,[0,1,3,4,5,6...|(122,[0,1,3,4,5,6...|              0.0|[3.09424628751218...|[0.95665478516071...|       0.0|\n",
            "|  Albury|-0.20000000298023224|16.299999237060547|                0.0|4.599999904632568|8.399999618530273|          W|         22.0|        NA|       WNW|         0.0|        11.0|      100.0|       57.0|1026.5999755859375| 1024.800048828125|     8.0|     5.0|  4.599999904632568|15.800000190734863|       No|          No|2013|    5| 25|          25.0|              0.0|             1.0|             7.0|            0.0|               0.0|(49,[25],[1.0])| (17,[0],[1.0])| (17,[1],[1.0])| (17,[7],[1.0])|(3,[0],[1.0])|   (2,[0],[1.0])|(122,[0,1,3,4,5,7...|(122,[0,1,3,4,5,7...|              0.0|[2.75348750975326...|[0.94011000936521...|       0.0|\n",
            "|  Albury|-0.10000000149011612|14.600000381469727|                0.0|4.599999904632568|8.399999618530273|        NNW|         28.0|         E|       WNW|         9.0|        17.0|       59.0|       45.0| 1026.300048828125|1023.7000122070312|     5.0|     5.0|                9.5|              14.0|       No|          No|2010|    9| 30|          25.0|             15.0|             4.0|             7.0|            0.0|               0.0|(49,[25],[1.0])|(17,[15],[1.0])| (17,[4],[1.0])| (17,[7],[1.0])|(3,[0],[1.0])|   (2,[0],[1.0])|(122,[0,1,3,4,5,6...|(122,[0,1,3,4,5,6...|              0.0|[3.15921988020553...|[0.95927047757602...|       0.0|\n",
            "|  Albury|                 0.0|14.800000190734863|                0.0|4.599999904632568|8.399999618530273|         NE|         11.0|         S|        SE|         2.0|         6.0|      100.0|       64.0| 1028.199951171875| 1025.199951171875|     7.0|     5.0|                3.0|              12.5|       No|          No|2012|    6|  9|          25.0|             14.0|             6.0|             0.0|            0.0|               0.0|(49,[25],[1.0])|(17,[14],[1.0])| (17,[6],[1.0])| (17,[0],[1.0])|(3,[0],[1.0])|   (2,[0],[1.0])|(122,[1,3,4,5,6,7...|(122,[0,1,3,4,5,6...|              0.0|[3.19904756197642...|[0.96079841953979...|       0.0|\n",
            "|  Albury|                 0.0|15.699999809265137|0.20000000298023224|4.599999904632568|8.399999618530273|        WSW|         19.0|        NA|       WNW|         0.0|        11.0|       92.0|       54.0| 1033.199951171875|            1030.0|     5.0|     5.0|  5.599999904632568|15.100000381469727|       No|          No|2012|    7| 22|          25.0|              7.0|             1.0|             7.0|            0.0|               0.0|(49,[25],[1.0])| (17,[7],[1.0])| (17,[1],[1.0])| (17,[7],[1.0])|(3,[0],[1.0])|   (2,[0],[1.0])|(122,[1,2,3,4,5,7...|(122,[0,1,2,3,4,5...|              0.0|[3.20029867937073...|[0.96084551548936...|       0.0|\n",
            "|  Albury| 0.10000000149011612|14.800000190734863|                0.0|4.599999904632568|8.399999618530273|          E|         13.0|        SE|         E|         6.0|         6.0|       86.0|       55.0|1028.9000244140625| 1026.800048828125|     5.0|     5.0|                4.5|14.100000381469727|       No|          No|2015|    7|  8|          25.0|              5.0|             2.0|            10.0|            0.0|               0.0|(49,[25],[1.0])| (17,[5],[1.0])| (17,[2],[1.0])|(17,[10],[1.0])|(3,[0],[1.0])|   (2,[0],[1.0])|(122,[0,1,3,4,5,6...|(122,[0,1,3,4,5,6...|              0.0|[3.61903626313783...|[0.97389143119008...|       0.0|\n",
            "|  Albury| 0.20000000298023224|10.100000381469727| 0.4000000059604645|4.599999904632568|8.399999618530273|        WSW|         24.0|       SSW|        NE|         4.0|         4.0|       94.0|       89.0|1015.2999877929688|1013.7999877929688|     6.0|     8.0|  4.099999904632568| 8.600000381469727|       No|         Yes|2011|    5| 12|          25.0|              7.0|            14.0|            11.0|            0.0|               1.0|(49,[25],[1.0])| (17,[7],[1.0])|(17,[14],[1.0])|(17,[11],[1.0])|(3,[0],[1.0])|   (2,[1],[1.0])|(122,[0,1,2,3,4,5...|(122,[0,1,2,3,4,5...|              1.0|[-0.2142877555705...|[0.44663212269292...|       1.0|\n",
            "|  Albury| 0.20000000298023224|14.100000381469727|  6.599999904632568|4.599999904632568|8.399999618530273|         NE|         26.0|        SE|       NNE|         9.0|        13.0|       90.0|       57.0|            1012.0|1009.5999755859375|     5.0|     5.0|  5.800000190734863|12.899999618530273|      Yes|         Yes|2009|    8| 22|          25.0|             14.0|             2.0|            15.0|            1.0|               1.0|(49,[25],[1.0])|(17,[14],[1.0])| (17,[2],[1.0])|(17,[15],[1.0])|(3,[1],[1.0])|   (2,[1],[1.0])|(122,[0,1,2,3,4,5...|(122,[0,1,2,3,4,5...|              1.0|[1.36665836784348...|[0.79683972608272...|       0.0|\n",
            "|  Albury| 0.20000000298023224|15.100000381469727|                0.0|4.599999904632568|8.399999618530273|          E|         24.0|        NA|        SE|         0.0|         9.0|       95.0|       60.0|            1029.0| 1024.199951171875|     1.0|     1.0|  5.199999809265137|14.300000190734863|       No|         Yes|2012|    7|  9|          25.0|              5.0|             1.0|             0.0|            0.0|               1.0|(49,[25],[1.0])| (17,[5],[1.0])| (17,[1],[1.0])| (17,[0],[1.0])|(3,[0],[1.0])|   (2,[1],[1.0])|(122,[0,1,3,4,5,7...|(122,[0,1,3,4,5,7...|              1.0|[2.72388022175561...|[0.93842114154778...|       0.0|\n",
            "|  Albury| 0.20000000298023224|15.199999809265137|                0.0|4.599999904632568|8.399999618530273|          N|         20.0|         E|        SE|         4.0|         9.0|       99.0|       63.0| 1026.699951171875|1020.9000244140625|     7.0|     5.0|  3.700000047683716|              14.5|       No|          No|2011|    7|  2|          25.0|              4.0|             4.0|             0.0|            0.0|               0.0|(49,[25],[1.0])| (17,[4],[1.0])| (17,[4],[1.0])| (17,[0],[1.0])|(3,[0],[1.0])|   (2,[0],[1.0])|(122,[0,1,3,4,5,6...|(122,[0,1,3,4,5,6...|              0.0|[1.97401435757516...|[0.87804164150928...|       0.0|\n",
            "|  Albury| 0.20000000298023224|16.299999237060547|                0.0|4.599999904632568|8.399999618530273|        WSW|         24.0|        SE|       SSW|         2.0|         9.0|       70.0|       49.0|1020.0999755859375|1017.2000122070312|     5.0|     7.0|  8.199999809265137|              15.5|       No|          No|2014|    9|  4|          25.0|              7.0|             2.0|            12.0|            0.0|               0.0|(49,[25],[1.0])| (17,[7],[1.0])| (17,[2],[1.0])|(17,[12],[1.0])|(3,[0],[1.0])|   (2,[0],[1.0])|(122,[0,1,3,4,5,6...|(122,[0,1,3,4,5,6...|              0.0|[2.51425716452521...|[0.92513527588420...|       0.0|\n",
            "|  Albury| 0.30000001192092896|10.399999618530273|0.20000000298023224|4.599999904632568|8.399999618530273|          S|         11.0|        NA|        SW|         0.0|         2.0|      100.0|       83.0|1014.0999755859375|1011.9000244140625|     8.0|     7.0|                4.5|10.199999809265137|       No|          No|2013|    6| 17|          25.0|              6.0|             1.0|             5.0|            0.0|               0.0|(49,[25],[1.0])| (17,[6],[1.0])| (17,[1],[1.0])| (17,[5],[1.0])|(3,[0],[1.0])|   (2,[0],[1.0])|(122,[0,1,2,3,4,5...|(122,[0,1,2,3,4,5...|              0.0|[0.61036940797364...|[0.64802506442755...|       0.0|\n",
            "|  Albury| 0.30000001192092896|12.600000381469727|                0.0|4.599999904632568|8.399999618530273|          W|         24.0|         W|       WNW|         6.0|        15.0|      100.0|       67.0| 1024.699951171875|1022.0999755859375|     7.0|     5.0|  4.199999809265137|12.300000190734863|       No|          No|2012|    7|  3|          25.0|              0.0|             7.0|             7.0|            0.0|               0.0|(49,[25],[1.0])| (17,[0],[1.0])| (17,[7],[1.0])| (17,[7],[1.0])|(3,[0],[1.0])|   (2,[0],[1.0])|(122,[0,1,3,4,5,6...|(122,[0,1,3,4,5,6...|              0.0|[1.61005530606121...|[0.83341906480213...|       0.0|\n",
            "|  Albury| 0.30000001192092896|14.100000381469727|                0.0|4.599999904632568|8.399999618530273|          E|         13.0|        SE|        SE|         2.0|         4.0|       99.0|       59.0|1033.5999755859375| 1028.699951171875|     8.0|     5.0| 3.9000000953674316|13.800000190734863|       No|          No|2011|    7|  1|          25.0|              5.0|             2.0|             0.0|            0.0|               0.0|(49,[25],[1.0])| (17,[5],[1.0])| (17,[2],[1.0])| (17,[0],[1.0])|(3,[0],[1.0])|   (2,[0],[1.0])|(122,[0,1,3,4,5,6...|(122,[0,1,3,4,5,6...|              0.0|[3.01678006201623...|[0.95332646291428...|       0.0|\n",
            "|  Albury| 0.30000001192092896|15.199999809265137|                0.0|4.599999904632568|8.399999618530273|         SE|         20.0|        NA|        SE|         0.0|         9.0|       92.0|       53.0|1038.9000244140625| 1034.199951171875|     5.0|     5.0|  5.400000095367432|15.100000381469727|       No|          No|2011|    6| 30|          25.0|              2.0|             1.0|             0.0|            0.0|               0.0|(49,[25],[1.0])| (17,[2],[1.0])| (17,[1],[1.0])| (17,[0],[1.0])|(3,[0],[1.0])|   (2,[0],[1.0])|(122,[0,1,3,4,5,7...|(122,[0,1,3,4,5,7...|              0.0|[3.27586517207934...|[0.96359149952043...|       0.0|\n",
            "|  Albury|  0.4000000059604645|13.600000381469727|                0.0|4.599999904632568|8.399999618530273|          E|         15.0|        NA|        SE|         0.0|         7.0|      100.0|       66.0| 1029.300048828125|            1025.5|     8.0|     5.0|                4.0|13.199999809265137|       No|          No|2012|    7| 24|          25.0|              5.0|             1.0|             0.0|            0.0|               0.0|(49,[25],[1.0])| (17,[5],[1.0])| (17,[1],[1.0])| (17,[0],[1.0])|(3,[0],[1.0])|   (2,[0],[1.0])|(122,[0,1,3,4,5,7...|(122,[0,1,3,4,5,7...|              0.0|[2.46773140985091...|[0.92184848321665...|       0.0|\n",
            "|  Albury|  0.4000000059604645|15.800000190734863|                0.0|4.599999904632568|8.399999618530273|        WNW|         26.0|        SE|       WSW|         6.0|        19.0|       87.0|       56.0|1025.4000244140625|1023.2000122070312|     5.0|     5.0|                6.5|15.600000381469727|       No|          No|2011|    8| 31|          25.0|             10.0|             2.0|             3.0|            0.0|               0.0|(49,[25],[1.0])|(17,[10],[1.0])| (17,[2],[1.0])| (17,[3],[1.0])|(3,[0],[1.0])|   (2,[0],[1.0])|(122,[0,1,3,4,5,6...|(122,[0,1,3,4,5,6...|              0.0|[2.93470024315757...|[0.94953537753576...|       0.0|\n",
            "|  Albury|                 0.5|11.600000381469727|0.20000000298023224|4.599999904632568|8.399999618530273|        WNW|         19.0|       SSE|       WNW|         7.0|        11.0|       99.0|       62.0|1025.4000244140625|            1024.0|     8.0|     1.0| 3.0999999046325684|              11.5|       No|          No|2010|    7| 20|          25.0|             10.0|             3.0|             7.0|            0.0|               0.0|(49,[25],[1.0])|(17,[10],[1.0])| (17,[3],[1.0])| (17,[7],[1.0])|(3,[0],[1.0])|   (2,[0],[1.0])|(122,[0,1,2,3,4,5...|(122,[0,1,2,3,4,5...|              0.0|[3.22730458748221...|[0.96184896636857...|       0.0|\n",
            "|  Albury|                 0.5|14.100000381469727|0.20000000298023224|4.599999904632568|8.399999618530273|          W|         24.0|       ESE|        SW|         6.0|         9.0|       99.0|       54.0|            1020.0|1019.7999877929688|     8.0|     5.0|  5.199999809265137|              14.0|       No|          No|2016|    5| 29|          25.0|              0.0|            12.0|             5.0|            0.0|               0.0|(49,[25],[1.0])| (17,[0],[1.0])|(17,[12],[1.0])| (17,[5],[1.0])|(3,[0],[1.0])|   (2,[0],[1.0])|(122,[0,1,2,3,4,5...|(122,[0,1,2,3,4,5...|              0.0|[2.94933709872000...|[0.95023214852361...|       0.0|\n",
            "|  Albury|                 0.5|15.800000190734863|                0.0|4.599999904632568|8.399999618530273|          E|         15.0|        NA|       ESE|         0.0|         4.0|       85.0|       54.0| 1031.800048828125|1028.0999755859375|     5.0|     5.0|  5.400000095367432|14.699999809265137|       No|          No|2011|    5| 17|          25.0|              5.0|             1.0|             9.0|            0.0|               0.0|(49,[25],[1.0])| (17,[5],[1.0])| (17,[1],[1.0])| (17,[9],[1.0])|(3,[0],[1.0])|   (2,[0],[1.0])|(122,[0,1,3,4,5,7...|(122,[0,1,3,4,5,7...|              0.0|[3.48385256778570...|[0.97022481741478...|       0.0|\n",
            "|  Albury|                 0.5|16.899999618530273|                0.0|4.599999904632568|8.399999618530273|          S|         15.0|         E|         S|         2.0|         7.0|       82.0|       48.0|            1027.0| 1024.699951171875|     5.0|     5.0|  5.800000190734863|16.799999237060547|       No|          No|2011|    6| 15|          25.0|              6.0|             4.0|             2.0|            0.0|               0.0|(49,[25],[1.0])| (17,[6],[1.0])| (17,[4],[1.0])| (17,[2],[1.0])|(3,[0],[1.0])|   (2,[0],[1.0])|(122,[0,1,3,4,5,6...|(122,[0,1,3,4,5,6...|              0.0|[3.63180425589752...|[0.97421412492311...|       0.0|\n",
            "|  Albury|  0.6000000238418579|13.300000190734863|                0.0|4.599999904632568|8.399999618530273|          W|         30.0|        NE|       WNW|         2.0|        15.0|      100.0|       62.0|1023.4000244140625|            1022.0|     8.0|     5.0|  5.099999904632568|12.800000190734863|       No|          No|2012|    8| 19|          25.0|              0.0|            13.0|             7.0|            0.0|               0.0|(49,[25],[1.0])| (17,[0],[1.0])|(17,[13],[1.0])| (17,[7],[1.0])|(3,[0],[1.0])|   (2,[0],[1.0])|(122,[0,1,3,4,5,6...|(122,[0,1,3,4,5,6...|              0.0|[1.58444948197191...|[0.82983375039578...|       0.0|\n",
            "|  Albury|  0.6000000238418579|15.899999618530273|                0.0|4.599999904632568|8.399999618530273|        WSW|         13.0|        NA|         W|         0.0|         2.0|       94.0|       52.0| 1029.699951171875| 1027.699951171875|     5.0|     5.0|  5.599999904632568|14.899999618530273|       No|          No|2009|    6| 17|          25.0|              7.0|             1.0|             1.0|            0.0|               0.0|(49,[25],[1.0])| (17,[7],[1.0])| (17,[1],[1.0])| (17,[1],[1.0])|(3,[0],[1.0])|   (2,[0],[1.0])|(122,[0,1,3,4,5,7...|(122,[0,1,3,4,5,7...|              0.0|[3.61610367653257...|[0.97381676085224...|       0.0|\n",
            "|  Albury|   0.699999988079071|               9.5|                0.0|4.599999904632568|8.399999618530273|        WNW|         26.0|         W|       WNW|        11.0|        15.0|       87.0|       70.0|1029.0999755859375| 1029.300048828125|     5.0|     8.0|  3.299999952316284| 9.199999809265137|       No|          No|2015|    7| 27|          25.0|             10.0|             7.0|             7.0|            0.0|               0.0|(49,[25],[1.0])|(17,[10],[1.0])| (17,[7],[1.0])| (17,[7],[1.0])|(3,[0],[1.0])|   (2,[0],[1.0])|(122,[0,1,3,4,5,6...|(122,[0,1,3,4,5,6...|              0.0|[1.78845042755667...|[0.85673718931845...|       0.0|\n",
            "|  Albury|   0.699999988079071|12.600000381469727|0.20000000298023224|4.599999904632568|8.399999618530273|         NW|         22.0|        SE|       WNW|         6.0|        13.0|       99.0|       59.0|            1024.5|1022.7999877929688|     8.0|     1.0|  3.200000047683716|12.199999809265137|       No|          No|2010|    8|  6|          25.0|             11.0|             2.0|             7.0|            0.0|               0.0|(49,[25],[1.0])|(17,[11],[1.0])| (17,[2],[1.0])| (17,[7],[1.0])|(3,[0],[1.0])|   (2,[0],[1.0])|(122,[0,1,2,3,4,5...|(122,[0,1,2,3,4,5...|              0.0|[3.05314480674347...|[0.95491810278442...|       0.0|\n",
            "|  Albury|   0.699999988079071|12.800000190734863|                0.0|4.599999904632568|8.399999618530273|        ENE|         24.0|        NE|         N|         9.0|        13.0|       96.0|       59.0|1023.0999755859375|1018.7000122070312|     5.0|     1.0|  5.199999809265137|12.100000381469727|       No|         Yes|2010|    7| 18|          25.0|             12.0|            13.0|             6.0|            0.0|               1.0|(49,[25],[1.0])|(17,[12],[1.0])|(17,[13],[1.0])| (17,[6],[1.0])|(3,[0],[1.0])|   (2,[1],[1.0])|(122,[0,1,3,4,5,6...|(122,[0,1,3,4,5,6...|              1.0|[2.02094207410095...|[0.88297838646413...|       0.0|\n",
            "|  Albury|   0.699999988079071|13.399999618530273|                0.0|4.599999904632568|8.399999618530273|        ESE|         13.0|        NA|         E|         0.0|         7.0|       91.0|       65.0|            1025.0|1023.0999755859375|     5.0|     5.0|  5.800000190734863|              13.0|       No|          No|2011|    8| 13|          25.0|             13.0|             1.0|            10.0|            0.0|               0.0|(49,[25],[1.0])|(17,[13],[1.0])| (17,[1],[1.0])|(17,[10],[1.0])|(3,[0],[1.0])|   (2,[0],[1.0])|(122,[0,1,3,4,5,7...|(122,[0,1,3,4,5,7...|              0.0|[2.56307670008882...|[0.92844712197677...|       0.0|\n",
            "|  Albury|   0.699999988079071|15.199999809265137|                0.0|4.599999904632568|8.399999618530273|        ESE|         41.0|        NA|         E|         0.0|         9.0|       75.0|       52.0| 1037.800048828125| 1034.199951171875|     5.0|     5.0|                6.5|15.199999809265137|       No|          No|2015|    6| 11|          25.0|             13.0|             1.0|            10.0|            0.0|               0.0|(49,[25],[1.0])|(17,[13],[1.0])| (17,[1],[1.0])|(17,[10],[1.0])|(3,[0],[1.0])|   (2,[0],[1.0])|(122,[0,1,3,4,5,7...|(122,[0,1,3,4,5,7...|              0.0|[2.31849616378625...|[0.91039734238614...|       0.0|\n",
            "|  Albury|   0.800000011920929|13.199999809265137|0.20000000298023224|4.599999904632568|8.399999618530273|        NNW|         17.0|       SSW|         N|         6.0|         4.0|      100.0|       65.0|1031.4000244140625|1029.4000244140625|     8.0|     5.0|  3.299999952316284|              13.0|       No|          No|2015|    6|  6|          25.0|             15.0|            14.0|             6.0|            0.0|               0.0|(49,[25],[1.0])|(17,[15],[1.0])|(17,[14],[1.0])| (17,[6],[1.0])|(3,[0],[1.0])|   (2,[0],[1.0])|(122,[0,1,2,3,4,5...|(122,[0,1,2,3,4,5...|              0.0|[2.30656445200593...|[0.90941924679585...|       0.0|\n",
            "|  Albury|   0.800000011920929|13.399999618530273|                0.0|4.599999904632568|8.399999618530273|          W|         17.0|         S|        NA|         6.0|         0.0|      100.0|       66.0|1029.4000244140625|1025.9000244140625|     8.0|     1.0| 3.5999999046325684|13.300000190734863|       No|          No|2017|    6| 22|          25.0|              0.0|             6.0|            16.0|            0.0|               0.0|(49,[25],[1.0])| (17,[0],[1.0])| (17,[6],[1.0])|(17,[16],[1.0])|(3,[0],[1.0])|   (2,[0],[1.0])|(122,[0,1,3,4,5,6...|(122,[0,1,3,4,5,6...|              0.0|[2.32772998478250...|[0.91114773333241...|       0.0|\n",
            "|  Albury|   0.800000011920929|              14.5|                0.0|4.599999904632568|8.399999618530273|        SSE|         24.0|        NA|         S|         0.0|         7.0|       89.0|       52.0| 1025.800048828125|1024.0999755859375|     5.0|     5.0|  4.699999809265137|13.899999618530273|       No|          No|2013|    6| 19|          25.0|              3.0|             1.0|             2.0|            0.0|               0.0|(49,[25],[1.0])| (17,[3],[1.0])| (17,[1],[1.0])| (17,[2],[1.0])|(3,[0],[1.0])|   (2,[0],[1.0])|(122,[0,1,3,4,5,7...|(122,[0,1,3,4,5,7...|              0.0|[2.84663840910076...|[0.94514465753037...|       0.0|\n",
            "|  Albury|   0.800000011920929|17.700000762939453|                0.0|4.599999904632568|8.399999618530273|        ESE|         19.0|        NA|        SE|         0.0|         9.0|       67.0|       43.0|1022.7999877929688|1018.7999877929688|     5.0|     5.0|                9.5|              16.5|       No|          No|2012|    9| 25|          25.0|             13.0|             1.0|             0.0|            0.0|               0.0|(49,[25],[1.0])|(17,[13],[1.0])| (17,[1],[1.0])| (17,[0],[1.0])|(3,[0],[1.0])|   (2,[0],[1.0])|(122,[0,1,3,4,5,7...|(122,[0,1,3,4,5,7...|              0.0|[3.23494685983847...|[0.96212841592198...|       0.0|\n",
            "|  Albury|  0.8999999761581421|11.399999618530273|0.20000000298023224|4.599999904632568|8.399999618530273|          E|         15.0|       SSE|         E|         7.0|         6.0|      100.0|       70.0| 1034.800048828125|            1030.5|     8.0|     5.0|                3.5|              11.0|       No|          No|2016|    6| 15|          25.0|              5.0|             3.0|            10.0|            0.0|               0.0|(49,[25],[1.0])| (17,[5],[1.0])| (17,[3],[1.0])|(17,[10],[1.0])|(3,[0],[1.0])|   (2,[0],[1.0])|(122,[0,1,2,3,4,5...|(122,[0,1,2,3,4,5...|              0.0|[2.42192538878492...|[0.91848401676998...|       0.0|\n",
            "|  Albury|  0.8999999761581421|16.799999237060547|                0.0|4.599999904632568|8.399999618530273|         SE|         48.0|        NA|       ESE|         0.0|         6.0|       81.0|       51.0|            1024.5|1021.7999877929688|     5.0|     5.0|                6.5|              16.0|       No|          No|2013|    6| 26|          25.0|              2.0|             1.0|             9.0|            0.0|               0.0|(49,[25],[1.0])| (17,[2],[1.0])| (17,[1],[1.0])| (17,[9],[1.0])|(3,[0],[1.0])|   (2,[0],[1.0])|(122,[0,1,3,4,5,7...|(122,[0,1,3,4,5,7...|              0.0|[1.48963862685061...|[0.81602402625352...|       0.0|\n",
            "|  Albury|  0.8999999761581421|20.799999237060547|                0.0|4.599999904632568|8.399999618530273|          W|         33.0|       ESE|       WSW|         9.0|        15.0|       83.0|       42.0|1021.7000122070312|1018.2999877929688|     5.0|     5.0|  9.399999618530273|20.600000381469727|       NA|          No|2011|    9| 14|          25.0|              0.0|            12.0|             3.0|            2.0|               0.0|(49,[25],[1.0])| (17,[0],[1.0])|(17,[12],[1.0])| (17,[3],[1.0])|(3,[2],[1.0])|   (2,[0],[1.0])|(122,[0,1,3,4,5,6...|(122,[0,1,3,4,5,6...|              0.0|[1.41812523708445...|[0.80504434447772...|       0.0|\n",
            "|  Albury|                 1.0| 8.600000381469727|                0.0|4.599999904632568|8.399999618530273|        WSW|         15.0|       ESE|       WSW|         9.0|         7.0|       99.0|       85.0| 1029.699951171875|            1028.0|     8.0|     8.0|                5.0| 8.199999809265137|       No|          No|2015|    6| 30|          25.0|              7.0|            12.0|             3.0|            0.0|               0.0|(49,[25],[1.0])| (17,[7],[1.0])|(17,[12],[1.0])| (17,[3],[1.0])|(3,[0],[1.0])|   (2,[0],[1.0])|(122,[0,1,3,4,5,6...|(122,[0,1,3,4,5,6...|              0.0|[1.25284846819313...|[0.77779255515234...|       0.0|\n",
            "|  Albury|                 1.0|12.199999809265137|                0.0|4.599999904632568|8.399999618530273|          E|         17.0|         E|       ENE|         9.0|         2.0|       99.0|       73.0|1035.5999755859375| 1031.199951171875|     8.0|     8.0|                4.5|11.199999809265137|       No|          No|2015|    7| 29|          25.0|              5.0|             4.0|            13.0|            0.0|               0.0|(49,[25],[1.0])| (17,[5],[1.0])| (17,[4],[1.0])|(17,[13],[1.0])|(3,[0],[1.0])|   (2,[0],[1.0])|(122,[0,1,3,4,5,6...|(122,[0,1,3,4,5,6...|              0.0|[1.54912695699138...|[0.82478760153223...|       0.0|\n",
            "|  Albury|                 1.0|14.899999618530273|                0.0|4.599999904632568|8.399999618530273|        SSE|         30.0|         N|       SSE|         2.0|        13.0|       89.0|       54.0|            1030.5|1028.9000244140625|     5.0|     5.0|                6.0|14.399999618530273|       No|          No|2014|    6|  8|          25.0|              3.0|             0.0|             4.0|            0.0|               0.0|(49,[25],[1.0])| (17,[3],[1.0])| (17,[0],[1.0])| (17,[4],[1.0])|(3,[0],[1.0])|   (2,[0],[1.0])|(122,[0,1,3,4,5,6...|(122,[0,1,3,4,5,6...|              0.0|[2.62732182829815...|[0.93259940045525...|       0.0|\n",
            "|  Albury|                 1.0|17.100000381469727|                0.0|4.599999904632568|8.399999618530273|          W|         30.0|        NA|         W|         0.0|        20.0|       79.0|       55.0|1024.0999755859375|1019.9000244140625|     5.0|     5.0|  6.400000095367432|16.899999618530273|       No|          No|2010|    5| 13|          25.0|              0.0|             1.0|             1.0|            0.0|               0.0|(49,[25],[1.0])| (17,[0],[1.0])| (17,[1],[1.0])| (17,[1],[1.0])|(3,[0],[1.0])|   (2,[0],[1.0])|(122,[0,1,3,4,5,7...|(122,[0,1,3,4,5,7...|              0.0|[2.15748777987554...|[0.89636641147103...|       0.0|\n",
            "|  Albury|   1.100000023841858|11.600000381469727|                0.0|4.599999904632568|8.399999618530273|          W|         24.0|        NA|         W|         0.0|        13.0|       94.0|       56.0| 1026.300048828125|1023.7999877929688|     8.0|     8.0| 2.5999999046325684|10.300000190734863|       No|          No|2015|    7|  4|          25.0|              0.0|             1.0|             1.0|            0.0|               0.0|(49,[25],[1.0])| (17,[0],[1.0])| (17,[1],[1.0])| (17,[1],[1.0])|(3,[0],[1.0])|   (2,[0],[1.0])|(122,[0,1,3,4,5,7...|(122,[0,1,3,4,5,7...|              0.0|[2.13518074548666...|[0.89427583151242...|       0.0|\n",
            "|  Albury|   1.100000023841858|13.699999809265137| 1.7999999523162842|4.599999904632568|8.399999618530273|          W|         33.0|        NA|       WSW|         0.0|        20.0|      100.0|       55.0|1025.9000244140625|1024.5999755859375|     5.0|     6.0|  5.699999809265137|13.399999618530273|      Yes|          No|2012|    7| 29|          25.0|              0.0|             1.0|             3.0|            1.0|               0.0|(49,[25],[1.0])| (17,[0],[1.0])| (17,[1],[1.0])| (17,[3],[1.0])|(3,[1],[1.0])|   (2,[0],[1.0])|(122,[0,1,2,3,4,5...|(122,[0,1,2,3,4,5...|              0.0|[1.94183494977044...|[0.87455359349771...|       0.0|\n",
            "|  Albury|   1.100000023841858|14.899999618530273|                0.0|4.599999904632568|8.399999618530273|        NNW|         24.0|         E|       WNW|         7.0|         9.0|       99.0|       50.0|1018.2000122070312|1015.5999755859375|     8.0|     5.0|  5.300000190734863|14.199999809265137|       No|          No|2015|    9|  1|          25.0|             15.0|             4.0|             7.0|            0.0|               0.0|(49,[25],[1.0])|(17,[15],[1.0])| (17,[4],[1.0])| (17,[7],[1.0])|(3,[0],[1.0])|   (2,[0],[1.0])|(122,[0,1,3,4,5,6...|(122,[0,1,3,4,5,6...|              0.0|[2.25229384038809...|[0.90484821348515...|       0.0|\n",
            "|  Albury|   1.100000023841858|15.199999809265137|                0.0|4.599999904632568|8.399999618530273|         NW|         26.0|        NA|        NW|         0.0|        17.0|       69.0|       43.0|1019.2999877929688|1015.2999877929688|     5.0|     5.0|  7.400000095367432|14.600000381469727|       No|         Yes|2011|    5| 10|          25.0|             11.0|             1.0|             8.0|            0.0|               1.0|(49,[25],[1.0])|(17,[11],[1.0])| (17,[1],[1.0])| (17,[8],[1.0])|(3,[0],[1.0])|   (2,[1],[1.0])|(122,[0,1,3,4,5,7...|(122,[0,1,3,4,5,7...|              1.0|[2.45269246116279...|[0.92075812247481...|       0.0|\n",
            "|  Albury|   1.100000023841858|16.600000381469727|                0.0|4.599999904632568|8.399999618530273|         SE|         17.0|       NNE|        SE|         7.0|         9.0|      100.0|       53.0|            1030.5| 1028.199951171875|     8.0|     5.0|  5.300000190734863|15.699999809265137|       No|          No|2013|    5| 27|          25.0|              2.0|             9.0|             0.0|            0.0|               0.0|(49,[25],[1.0])| (17,[2],[1.0])| (17,[9],[1.0])| (17,[0],[1.0])|(3,[0],[1.0])|   (2,[0],[1.0])|(122,[0,1,3,4,5,6...|(122,[0,1,3,4,5,6...|              0.0|[3.04103359287393...|[0.95439383876141...|       0.0|\n",
            "|  Albury|   1.100000023841858|16.600000381469727|                0.0|4.599999904632568|8.399999618530273|        WNW|         28.0|        NA|         W|         0.0|        17.0|       77.0|       52.0|            1024.5|            1021.0|     5.0|     5.0|  8.899999618530273|              15.5|       No|          No|2014|    9| 19|          25.0|             10.0|             1.0|             1.0|            0.0|               0.0|(49,[25],[1.0])|(17,[10],[1.0])| (17,[1],[1.0])| (17,[1],[1.0])|(3,[0],[1.0])|   (2,[0],[1.0])|(122,[0,1,3,4,5,7...|(122,[0,1,3,4,5,7...|              0.0|[2.48546463519111...|[0.92311653399022...|       0.0|\n",
            "|  Albury|   1.100000023841858|16.700000762939453| 0.4000000059604645|4.599999904632568|8.399999618530273|          N|         30.0|       ENE|         N|        11.0|        19.0|       72.0|       49.0|            1018.5|1014.5999755859375|     5.0|     5.0|  8.899999618530273|16.200000762939453|       No|          No|2009|    8| 27|          25.0|              4.0|            11.0|             6.0|            0.0|               0.0|(49,[25],[1.0])| (17,[4],[1.0])|(17,[11],[1.0])| (17,[6],[1.0])|(3,[0],[1.0])|   (2,[0],[1.0])|(122,[0,1,2,3,4,5...|(122,[0,1,2,3,4,5...|              0.0|[1.83964414556078...|[0.86290661571182...|       0.0|\n",
            "|  Albury|  1.2000000476837158|12.300000190734863|                0.0|4.599999904632568|8.399999618530273|        ENE|         15.0|        NA|        SE|         0.0|         7.0|      100.0|       74.0|            1025.5|1019.4000244140625|     8.0|     7.0|                5.5|11.800000190734863|       No|         Yes|2012|    6| 28|          25.0|             12.0|             1.0|             0.0|            0.0|               1.0|(49,[25],[1.0])|(17,[12],[1.0])| (17,[1],[1.0])| (17,[0],[1.0])|(3,[0],[1.0])|   (2,[1],[1.0])|(122,[0,1,3,4,5,7...|(122,[0,1,3,4,5,7...|              1.0|[1.04497289608717...|[0.73980838941893...|       0.0|\n",
            "|  Albury|  1.2000000476837158|14.899999618530273|0.20000000298023224|4.599999904632568|8.399999618530273|        ESE|         11.0|        SW|        SE|         4.0|         2.0|      100.0|       66.0|1030.5999755859375| 1027.199951171875|     8.0|     5.0| 3.4000000953674316|              14.0|       No|          No|2017|    6| 20|          25.0|             13.0|             8.0|             0.0|            0.0|               0.0|(49,[25],[1.0])|(17,[13],[1.0])| (17,[8],[1.0])| (17,[0],[1.0])|(3,[0],[1.0])|   (2,[0],[1.0])|(122,[0,1,2,3,4,5...|(122,[0,1,2,3,4,5...|              0.0|[2.37030681010185...|[0.91453484415765...|       0.0|\n",
            "|  Albury|  1.2000000476837158|15.300000190734863|                0.0|4.599999904632568|8.399999618530273|         SE|         20.0|       SSE|       ENE|         2.0|        11.0|       87.0|       55.0|1024.9000244140625|1019.9000244140625|     5.0|     5.0|  7.599999904632568|14.800000190734863|       No|          No|2012|    8| 28|          25.0|              2.0|             3.0|            13.0|            0.0|               0.0|(49,[25],[1.0])| (17,[2],[1.0])| (17,[3],[1.0])|(17,[13],[1.0])|(3,[0],[1.0])|   (2,[0],[1.0])|(122,[0,1,3,4,5,6...|(122,[0,1,3,4,5,6...|              0.0|[2.23919856282991...|[0.90371474427044...|       0.0|\n",
            "|  Albury|  1.2000000476837158|15.699999809265137|                0.0|4.599999904632568|8.399999618530273|        WNW|         28.0|        NA|       WNW|         0.0|        15.0|       86.0|       51.0|1023.2000122070312|1020.0999755859375|     5.0|     5.0|  6.400000095367432|              15.5|       No|          No|2010|    8|  3|          25.0|             10.0|             1.0|             7.0|            0.0|               0.0|(49,[25],[1.0])|(17,[10],[1.0])| (17,[1],[1.0])| (17,[7],[1.0])|(3,[0],[1.0])|   (2,[0],[1.0])|(122,[0,1,3,4,5,7...|(122,[0,1,3,4,5,7...|              0.0|[2.42492519261295...|[0.91870833369654...|       0.0|\n",
            "|  Albury|  1.2000000476837158|              18.0|                0.0|4.599999904632568|8.399999618530273|          S|         19.0|         S|         S|         7.0|        11.0|       82.0|       54.0|1032.0999755859375| 1029.699951171875|     5.0|     5.0|  5.800000190734863|17.700000762939453|       No|          No|2014|    6|  9|          25.0|              6.0|             6.0|             2.0|            0.0|               0.0|(49,[25],[1.0])| (17,[6],[1.0])| (17,[6],[1.0])| (17,[2],[1.0])|(3,[0],[1.0])|   (2,[0],[1.0])|(122,[0,1,3,4,5,6...|(122,[0,1,3,4,5,6...|              0.0|[3.52342086110753...|[0.97134686759821...|       0.0|\n",
            "|  Albury|   1.399999976158142|15.300000190734863|                0.0|4.599999904632568|8.399999618530273|         SW|         15.0|         E|       SSW|         2.0|         7.0|      100.0|       53.0|1033.0999755859375| 1030.300048828125|     8.0|     5.0|  5.199999809265137|14.800000190734863|       No|          No|2012|    7| 21|          25.0|              8.0|             4.0|            12.0|            0.0|               0.0|(49,[25],[1.0])| (17,[8],[1.0])| (17,[4],[1.0])|(17,[12],[1.0])|(3,[0],[1.0])|   (2,[0],[1.0])|(122,[0,1,3,4,5,6...|(122,[0,1,3,4,5,6...|              0.0|[3.55683465246783...|[0.97226234118417...|       0.0|\n",
            "|  Albury|   1.399999976158142|15.699999809265137|                0.0|4.599999904632568|8.399999618530273|          W|         19.0|        NA|         W|         0.0|        13.0|       97.0|       54.0| 1028.199951171875| 1025.800048828125|     5.0|     5.0|  6.300000190734863|15.600000381469727|       No|          No|2013|    6| 30|          25.0|              0.0|             1.0|             1.0|            0.0|               0.0|(49,[25],[1.0])| (17,[0],[1.0])| (17,[1],[1.0])| (17,[1],[1.0])|(3,[0],[1.0])|   (2,[0],[1.0])|(122,[0,1,3,4,5,7...|(122,[0,1,3,4,5,7...|              0.0|[3.08449576924773...|[0.95624866110120...|       0.0|\n",
            "|  Albury|   1.399999976158142|16.600000381469727|                0.0|4.599999904632568|8.399999618530273|        NNW|         13.0|       WSW|        NW|         4.0|         4.0|       82.0|       49.0| 1031.800048828125|1029.4000244140625|     5.0|     5.0|  6.099999904632568|              16.5|       No|          No|2015|    5| 23|          25.0|             15.0|            16.0|             8.0|            0.0|               0.0|(49,[25],[1.0])|(17,[15],[1.0])|(17,[16],[1.0])| (17,[8],[1.0])|(3,[0],[1.0])|   (2,[0],[1.0])|(122,[0,1,3,4,5,6...|(122,[0,1,3,4,5,6...|              0.0|[3.32833721306243...|[0.96538825270052...|       0.0|\n",
            "|  Albury|   1.399999976158142|17.399999618530273|                0.0|4.599999904632568|8.399999618530273|        WNW|         22.0|         S|       WNW|         7.0|         7.0|       75.0|       40.0| 1024.199951171875|1021.7999877929688|     5.0|     5.0|  7.800000190734863|              17.0|       No|          No|2013|    5| 24|          25.0|             10.0|             6.0|             7.0|            0.0|               0.0|(49,[25],[1.0])|(17,[10],[1.0])| (17,[6],[1.0])| (17,[7],[1.0])|(3,[0],[1.0])|   (2,[0],[1.0])|(122,[0,1,3,4,5,6...|(122,[0,1,3,4,5,6...|              0.0|[3.67310592651662...|[0.97523159015475...|       0.0|\n",
            "|  Albury|                 1.5|10.199999809265137| 2.5999999046325684|4.599999904632568|8.399999618530273|        WNW|         37.0|       WNW|         W|        13.0|        22.0|       89.0|       63.0|1019.2000122070312|1017.2999877929688|     8.0|     8.0|                3.0| 9.699999809265137|      Yes|          No|2011|    6|  8|          25.0|             10.0|            15.0|             1.0|            1.0|               0.0|(49,[25],[1.0])|(17,[10],[1.0])|(17,[15],[1.0])| (17,[1],[1.0])|(3,[1],[1.0])|   (2,[0],[1.0])|(122,[0,1,2,3,4,5...|(122,[0,1,2,3,4,5...|              0.0|[0.32440510370995...|[0.58039743294061...|       0.0|\n",
            "|  Albury|                 1.5|10.699999809265137|  9.800000190734863|4.599999904632568|8.399999618530273|        WNW|         35.0|         W|       WNW|        17.0|        22.0|       86.0|       63.0|1017.5999755859375|1016.2000122070312|     5.0|     8.0|  4.800000190734863| 9.800000190734863|      Yes|          No|2013|    8| 20|          25.0|             10.0|             7.0|             7.0|            1.0|               0.0|(49,[25],[1.0])|(17,[10],[1.0])| (17,[7],[1.0])| (17,[7],[1.0])|(3,[1],[1.0])|   (2,[0],[1.0])|(122,[0,1,2,3,4,5...|(122,[0,1,2,3,4,5...|              0.0|[0.37955119962051...|[0.59376485318100...|       0.0|\n",
            "|  Albury|                 1.5|              13.5|                0.0|4.599999904632568|8.399999618530273|        NNE|         50.0|        NA|       WNW|         0.0|         7.0|       99.0|       64.0|1026.9000244140625|1025.0999755859375|     7.0|     5.0|                3.0|12.600000381469727|       No|          No|2010|    7|  7|          25.0|             16.0|             1.0|             7.0|            0.0|               0.0|(49,[25],[1.0])|(17,[16],[1.0])| (17,[1],[1.0])| (17,[7],[1.0])|(3,[0],[1.0])|   (2,[0],[1.0])|(122,[0,1,3,4,5,7...|(122,[0,1,3,4,5,7...|              0.0|[0.82016936441401...|[0.69427229028954...|       0.0|\n",
            "|  Albury|                 1.5|16.100000381469727|                0.0|4.599999904632568|8.399999618530273|          N|         46.0|       NNW|       NNE|         6.0|        28.0|       96.0|       61.0|1024.0999755859375|            1019.5|     5.0|     8.0|                5.0|              15.0|       No|         Yes|2010|    7| 10|          25.0|              4.0|            10.0|            15.0|            0.0|               1.0|(49,[25],[1.0])| (17,[4],[1.0])|(17,[10],[1.0])|(17,[15],[1.0])|(3,[0],[1.0])|   (2,[1],[1.0])|(122,[0,1,3,4,5,6...|(122,[0,1,3,4,5,6...|              1.0|[0.39503529054267...|[0.59749425305071...|       0.0|\n",
            "|  Albury|   1.600000023841858|16.299999237060547|                0.0|4.599999904632568|8.399999618530273|         SW|         24.0|       SSE|         W|         4.0|        15.0|       74.0|       43.0|1020.7000122070312|            1019.5|     5.0|     5.0|  6.900000095367432|16.200000762939453|       No|          No|2011|    8| 12|          25.0|              8.0|             3.0|             1.0|            0.0|               0.0|(49,[25],[1.0])| (17,[8],[1.0])| (17,[3],[1.0])| (17,[1],[1.0])|(3,[0],[1.0])|   (2,[0],[1.0])|(122,[0,1,3,4,5,6...|(122,[0,1,3,4,5,6...|              0.0|[3.46213150047373...|[0.96959087571192...|       0.0|\n",
            "|  Albury|  1.7000000476837158|              10.5|0.20000000298023224|4.599999904632568|8.399999618530273|        ESE|         11.0|         E|        NA|         4.0|         0.0|       99.0|       91.0|1015.2000122070312|1011.0999755859375|     8.0|     8.0|  4.699999809265137|10.199999809265137|       No|         Yes|2009|    6|  6|          25.0|             13.0|             4.0|            16.0|            0.0|               1.0|(49,[25],[1.0])|(17,[13],[1.0])| (17,[4],[1.0])|(17,[16],[1.0])|(3,[0],[1.0])|   (2,[1],[1.0])|(122,[0,1,2,3,4,5...|(122,[0,1,2,3,4,5...|              1.0|[-0.9602049543703...|[0.27683716147270...|       1.0|\n",
            "|  Albury|  1.7000000476837158|12.300000190734863|  5.400000095367432|4.599999904632568|8.399999618530273|        WSW|         33.0|       WSW|         W|        15.0|        15.0|       90.0|       78.0|1019.2000122070312|1020.0999755859375|     4.0|     8.0|                7.5|              11.0|      Yes|          No|2015|    8| 13|          25.0|              7.0|            16.0|             1.0|            1.0|               0.0|(49,[25],[1.0])| (17,[7],[1.0])|(17,[16],[1.0])| (17,[1],[1.0])|(3,[1],[1.0])|   (2,[0],[1.0])|(122,[0,1,2,3,4,5...|(122,[0,1,2,3,4,5...|              0.0|[-0.0691500853941...|[0.48271936405357...|       1.0|\n",
            "|  Albury|  1.7000000476837158|15.899999618530273|0.20000000298023224|4.599999904632568|8.399999618530273|          W|         30.0|        SE|       WNW|         6.0|        19.0|      100.0|       55.0|            1028.5|1023.7999877929688|     8.0|     7.0|                5.5|14.600000381469727|       No|          No|2015|    8| 16|          25.0|              0.0|             2.0|             7.0|            0.0|               0.0|(49,[25],[1.0])| (17,[0],[1.0])| (17,[2],[1.0])| (17,[7],[1.0])|(3,[0],[1.0])|   (2,[0],[1.0])|(122,[0,1,2,3,4,5...|(122,[0,1,2,3,4,5...|              0.0|[1.81930855369259...|[0.86048313827919...|       0.0|\n",
            "|  Albury|  1.7000000476837158|17.100000381469727|                0.0|4.599999904632568|8.399999618530273|         NW|         44.0|        NA|        SE|         0.0|         9.0|       73.0|       46.0|1034.0999755859375|1029.9000244140625|     5.0|     5.0|                8.0|16.799999237060547|       No|         Yes|2009|    5| 31|          25.0|             11.0|             1.0|             0.0|            0.0|               1.0|(49,[25],[1.0])|(17,[11],[1.0])| (17,[1],[1.0])| (17,[0],[1.0])|(3,[0],[1.0])|   (2,[1],[1.0])|(122,[0,1,3,4,5,7...|(122,[0,1,3,4,5,7...|              1.0|[2.43925739049123...|[0.91977230685190...|       0.0|\n",
            "|  Albury|  1.7999999523162842|12.100000381469727|0.20000000298023224|4.599999904632568|8.399999618530273|         SE|         22.0|       SSE|        NA|         7.0|         0.0|       99.0|       70.0|            1027.5|1022.7999877929688|     8.0|     3.0| 2.4000000953674316|11.699999809265137|       No|         Yes|2010|    7|  5|          25.0|              2.0|             3.0|            16.0|            0.0|               1.0|(49,[25],[1.0])| (17,[2],[1.0])| (17,[3],[1.0])|(17,[16],[1.0])|(3,[0],[1.0])|   (2,[1],[1.0])|(122,[0,1,2,3,4,5...|(122,[0,1,2,3,4,5...|              1.0|[1.07901713796438...|[0.74630794076465...|       0.0|\n",
            "|  Albury|  1.7999999523162842|12.399999618530273|                0.0|4.599999904632568|8.399999618530273|        ENE|         28.0|         E|        NE|         4.0|        15.0|       86.0|       60.0|1018.2999877929688|            1013.0|     5.0|     4.0|  5.900000095367432|12.100000381469727|       No|          No|2009|    6| 13|          25.0|             12.0|             4.0|            11.0|            0.0|               0.0|(49,[25],[1.0])|(17,[12],[1.0])| (17,[4],[1.0])|(17,[11],[1.0])|(3,[0],[1.0])|   (2,[0],[1.0])|(122,[0,1,3,4,5,6...|(122,[0,1,3,4,5,6...|              0.0|[1.60670254691453...|[0.83295307497751...|       0.0|\n",
            "|  Albury|  1.7999999523162842|14.300000190734863|0.20000000298023224|4.599999904632568|8.399999618530273|        ENE|         11.0|         N|         E|         7.0|         6.0|      100.0|       69.0|            1034.0|            1032.0|     8.0|     5.0|  4.599999904632568|13.899999618530273|       No|          No|2015|    6| 26|          25.0|             12.0|             0.0|            10.0|            0.0|               0.0|(49,[25],[1.0])|(17,[12],[1.0])| (17,[0],[1.0])|(17,[10],[1.0])|(3,[0],[1.0])|   (2,[0],[1.0])|(122,[0,1,2,3,4,5...|(122,[0,1,2,3,4,5...|              0.0|[2.82331852884445...|[0.94392298306749...|       0.0|\n",
            "|  Albury|  1.7999999523162842|15.899999618530273|                0.0|4.599999904632568|8.399999618530273|         SE|         19.0|        NA|        SE|         0.0|        13.0|       88.0|       50.0|1031.0999755859375| 1027.300048828125|     5.0|     5.0|  6.599999904632568|15.600000381469727|       No|          No|2016|    5| 31|          25.0|              2.0|             1.0|             0.0|            0.0|               0.0|(49,[25],[1.0])| (17,[2],[1.0])| (17,[1],[1.0])| (17,[0],[1.0])|(3,[0],[1.0])|   (2,[0],[1.0])|(122,[0,1,3,4,5,7...|(122,[0,1,3,4,5,7...|              0.0|[3.25188447358632...|[0.96274076954889...|       0.0|\n",
            "|  Albury|  1.7999999523162842|17.700000762939453|                0.0|4.599999904632568|8.399999618530273|        WSW|         22.0|       NNE|        NW|         6.0|         7.0|       79.0|       47.0|1039.9000244140625|            1036.0|     5.0|     5.0|  8.800000190734863|17.100000381469727|       No|          No|2011|    8| 22|          25.0|              7.0|             9.0|             8.0|            0.0|               0.0|(49,[25],[1.0])| (17,[7],[1.0])| (17,[9],[1.0])| (17,[8],[1.0])|(3,[0],[1.0])|   (2,[0],[1.0])|(122,[0,1,3,4,5,6...|(122,[0,1,3,4,5,6...|              0.0|[3.02030559964813...|[0.95348308165395...|       0.0|\n",
            "|  Albury|   1.899999976158142|11.600000381469727|  4.599999904632568|4.599999904632568|8.399999618530273|          N|         22.0|        NA|       NNW|         0.0|        15.0|      100.0|       82.0|1015.7999877929688|1013.7000122070312|     8.0|     8.0|  6.099999904632568|11.199999809265137|      Yes|         Yes|2013|    5| 14|          25.0|              4.0|             1.0|            14.0|            1.0|               1.0|(49,[25],[1.0])| (17,[4],[1.0])| (17,[1],[1.0])|(17,[14],[1.0])|(3,[1],[1.0])|   (2,[1],[1.0])|(122,[0,1,2,3,4,5...|(122,[0,1,2,3,4,5...|              1.0|[-0.6356609096072...|[0.34622805424272...|       1.0|\n",
            "|  Albury|   1.899999976158142|14.899999618530273|0.20000000298023224|4.599999904632568|8.399999618530273|        WSW|         19.0|        NA|         W|         0.0|         9.0|       99.0|       52.0|1035.9000244140625|1034.0999755859375|     2.0|     5.0|  3.700000047683716|14.600000381469727|       No|          No|2010|    7| 26|          25.0|              7.0|             1.0|             1.0|            0.0|               0.0|(49,[25],[1.0])| (17,[7],[1.0])| (17,[1],[1.0])| (17,[1],[1.0])|(3,[0],[1.0])|   (2,[0],[1.0])|(122,[0,1,2,3,4,5...|(122,[0,1,2,3,4,5...|              0.0|[3.72609194208310...|[0.97647974268578...|       0.0|\n",
            "|  Albury|   1.899999976158142|15.199999809265137|                0.0|4.599999904632568|8.399999618530273|        WSW|         15.0|         W|        NW|         2.0|         6.0|       85.0|       57.0|1029.5999755859375| 1027.199951171875|     5.0|     7.0|  7.099999904632568|14.100000381469727|       No|          No|2010|    8| 29|          25.0|              7.0|             7.0|             8.0|            0.0|               0.0|(49,[25],[1.0])| (17,[7],[1.0])| (17,[7],[1.0])| (17,[8],[1.0])|(3,[0],[1.0])|   (2,[0],[1.0])|(122,[0,1,3,4,5,6...|(122,[0,1,3,4,5,6...|              0.0|[2.43799901156275...|[0.91967940048371...|       0.0|\n",
            "|  Albury|   1.899999976158142|15.399999618530273|0.20000000298023224|4.599999904632568|8.399999618530273|          N|         48.0|       ENE|         N|         9.0|        19.0|       83.0|       59.0|1016.4000244140625|            1011.5|     8.0|     8.0|  8.899999618530273|14.100000381469727|       No|          No|2013|    7|  4|          25.0|              4.0|            11.0|             6.0|            0.0|               0.0|(49,[25],[1.0])| (17,[4],[1.0])|(17,[11],[1.0])| (17,[6],[1.0])|(3,[0],[1.0])|   (2,[0],[1.0])|(122,[0,1,2,3,4,5...|(122,[0,1,2,3,4,5...|              0.0|[-0.6000638715499...|[0.35432908110611...|       1.0|\n",
            "+--------+--------------------+------------------+-------------------+-----------------+-----------------+-----------+-------------+----------+----------+------------+------------+-----------+-----------+------------------+------------------+--------+--------+-------------------+------------------+---------+------------+----+-----+---+--------------+-----------------+----------------+----------------+---------------+------------------+---------------+---------------+---------------+---------------+-------------+----------------+--------------------+--------------------+-----------------+--------------------+--------------------+----------+\n",
            "only showing top 100 rows\n",
            "\n"
          ]
        }
      ]
    },
    {
      "cell_type": "markdown",
      "source": [
        "17) Predicting the RainTomorrow for the test set"
      ],
      "metadata": {
        "id": "5DQkSscohpRK"
      }
    },
    {
      "cell_type": "code",
      "source": [
        "#performing testing\n",
        "my_eval = BinaryClassificationEvaluator(rawPredictionCol='prediction',\n",
        "                                       labelCol='RainTomorrowLabel')\n",
        "results.select('RainTomorrowLabel','prediction').show(100)"
      ],
      "metadata": {
        "colab": {
          "base_uri": "https://localhost:8080/"
        },
        "id": "Q3I0T1-CgmKE",
        "outputId": "35d1657a-8f2d-405e-ea93-7740bddb0ea6"
      },
      "execution_count": null,
      "outputs": [
        {
          "output_type": "stream",
          "name": "stdout",
          "text": [
            "+-----------------+----------+\n",
            "|RainTomorrowLabel|prediction|\n",
            "+-----------------+----------+\n",
            "|              0.0|       0.0|\n",
            "|              0.0|       0.0|\n",
            "|              0.0|       0.0|\n",
            "|              0.0|       0.0|\n",
            "|              0.0|       0.0|\n",
            "|              0.0|       0.0|\n",
            "|              0.0|       0.0|\n",
            "|              0.0|       0.0|\n",
            "|              0.0|       0.0|\n",
            "|              0.0|       0.0|\n",
            "|              0.0|       0.0|\n",
            "|              0.0|       0.0|\n",
            "|              0.0|       0.0|\n",
            "|              0.0|       0.0|\n",
            "|              0.0|       0.0|\n",
            "|              0.0|       0.0|\n",
            "|              0.0|       0.0|\n",
            "|              0.0|       0.0|\n",
            "|              0.0|       0.0|\n",
            "|              0.0|       0.0|\n",
            "|              1.0|       0.0|\n",
            "|              0.0|       0.0|\n",
            "|              0.0|       0.0|\n",
            "|              0.0|       0.0|\n",
            "|              0.0|       0.0|\n",
            "|              0.0|       0.0|\n",
            "|              0.0|       0.0|\n",
            "|              0.0|       0.0|\n",
            "|              0.0|       0.0|\n",
            "|              0.0|       0.0|\n",
            "|              0.0|       0.0|\n",
            "|              0.0|       0.0|\n",
            "|              0.0|       0.0|\n",
            "|              1.0|       1.0|\n",
            "|              1.0|       0.0|\n",
            "|              1.0|       0.0|\n",
            "|              0.0|       0.0|\n",
            "|              0.0|       0.0|\n",
            "|              0.0|       0.0|\n",
            "|              0.0|       0.0|\n",
            "|              0.0|       0.0|\n",
            "|              0.0|       0.0|\n",
            "|              0.0|       0.0|\n",
            "|              0.0|       0.0|\n",
            "|              0.0|       0.0|\n",
            "|              0.0|       0.0|\n",
            "|              0.0|       0.0|\n",
            "|              0.0|       0.0|\n",
            "|              0.0|       0.0|\n",
            "|              0.0|       0.0|\n",
            "|              0.0|       0.0|\n",
            "|              0.0|       0.0|\n",
            "|              1.0|       0.0|\n",
            "|              0.0|       0.0|\n",
            "|              0.0|       0.0|\n",
            "|              0.0|       0.0|\n",
            "|              0.0|       0.0|\n",
            "|              0.0|       0.0|\n",
            "|              0.0|       0.0|\n",
            "|              0.0|       0.0|\n",
            "|              0.0|       0.0|\n",
            "|              0.0|       0.0|\n",
            "|              0.0|       0.0|\n",
            "|              0.0|       0.0|\n",
            "|              0.0|       0.0|\n",
            "|              0.0|       0.0|\n",
            "|              0.0|       0.0|\n",
            "|              0.0|       0.0|\n",
            "|              0.0|       0.0|\n",
            "|              1.0|       0.0|\n",
            "|              0.0|       0.0|\n",
            "|              0.0|       0.0|\n",
            "|              0.0|       0.0|\n",
            "|              1.0|       0.0|\n",
            "|              0.0|       0.0|\n",
            "|              0.0|       0.0|\n",
            "|              0.0|       0.0|\n",
            "|              0.0|       0.0|\n",
            "|              0.0|       0.0|\n",
            "|              0.0|       0.0|\n",
            "|              0.0|       0.0|\n",
            "|              0.0|       0.0|\n",
            "|              0.0|       0.0|\n",
            "|              0.0|       0.0|\n",
            "|              0.0|       0.0|\n",
            "|              1.0|       0.0|\n",
            "|              0.0|       0.0|\n",
            "|              1.0|       1.0|\n",
            "|              0.0|       1.0|\n",
            "|              0.0|       0.0|\n",
            "|              1.0|       0.0|\n",
            "|              1.0|       0.0|\n",
            "|              0.0|       0.0|\n",
            "|              0.0|       0.0|\n",
            "|              0.0|       0.0|\n",
            "|              0.0|       0.0|\n",
            "|              1.0|       1.0|\n",
            "|              0.0|       0.0|\n",
            "|              0.0|       0.0|\n",
            "|              0.0|       1.0|\n",
            "+-----------------+----------+\n",
            "only showing top 100 rows\n",
            "\n"
          ]
        }
      ]
    },
    {
      "cell_type": "markdown",
      "source": [
        "18) confusion matrix and TP, TN,\n",
        "FP,FN and  accuracy and F1 score of your model."
      ],
      "metadata": {
        "id": "fkxFIyd7h-h7"
      }
    },
    {
      "cell_type": "code",
      "source": [
        "from pyspark.mllib.evaluation import MulticlassMetrics\n",
        "\n",
        "# Calculate and display the confusion matrix\n",
        "confusion_matrix = MulticlassMetrics(results.select('prediction', 'RainTomorrowLabel').rdd.map(lambda row: (row.prediction, row.RainTomorrowLabel))).confusionMatrix().toArray()\n",
        "print(\"Confusion Matrix:\")\n",
        "print(confusion_matrix)\n",
        "\n",
        "\n"
      ],
      "metadata": {
        "colab": {
          "base_uri": "https://localhost:8080/"
        },
        "id": "zUfFImUv9LBt",
        "outputId": "a0cd9481-ede2-4948-c1ae-adbf551dca35"
      },
      "execution_count": null,
      "outputs": [
        {
          "output_type": "stream",
          "name": "stdout",
          "text": [
            "Confusion Matrix:\n",
            "[[31414.  1732.]\n",
            " [ 4631.  4806.]]\n"
          ]
        }
      ]
    },
    {
      "cell_type": "code",
      "source": [
        "# Calculate key metrics and print\n",
        "TP, TN, FP, FN = confusion_matrix[0][0], confusion_matrix[1][1], confusion_matrix[0][1], confusion_matrix[1][0]\n",
        "print(\"TP:\", TP, \"\\nTN:\", TN, \"\\nFP:\", FP, \"\\nFN:\", FN)\n",
        "accuracy, F1_score = (TP + TN) / (TP + TN + FP + FN), 2 * TP / (2 * TP + FP + FN)\n",
        "print(\"Accuracy:\", accuracy, \"\\nF1 Score:\", F1_score)"
      ],
      "metadata": {
        "colab": {
          "base_uri": "https://localhost:8080/"
        },
        "id": "_2qmtHdO9K-w",
        "outputId": "966075a8-a7f0-427f-a04a-4de6e7ea7aea"
      },
      "execution_count": null,
      "outputs": [
        {
          "output_type": "stream",
          "name": "stdout",
          "text": [
            "TP: 31414.0 \n",
            "TN: 4806.0 \n",
            "FP: 1732.0 \n",
            "FN: 4631.0\n",
            "Accuracy: 0.8505741727919592 \n",
            "F1 Score: 0.9080371724646269\n"
          ]
        }
      ]
    }
  ]
}